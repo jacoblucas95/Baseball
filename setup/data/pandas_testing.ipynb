{
 "cells": [
  {
   "cell_type": "code",
   "execution_count": 1,
   "metadata": {},
   "outputs": [],
   "source": [
    "import numpy as np\n",
    "import pandas as pd"
   ]
  },
  {
   "cell_type": "code",
   "execution_count": 2,
   "metadata": {},
   "outputs": [],
   "source": [
    "data = pd.read_csv('baseball.csv', low_memory=False)"
   ]
  },
  {
   "cell_type": "code",
   "execution_count": 3,
   "metadata": {},
   "outputs": [
    {
     "data": {
      "text/html": [
       "<div>\n",
       "<style scoped>\n",
       "    .dataframe tbody tr th:only-of-type {\n",
       "        vertical-align: middle;\n",
       "    }\n",
       "\n",
       "    .dataframe tbody tr th {\n",
       "        vertical-align: top;\n",
       "    }\n",
       "\n",
       "    .dataframe thead th {\n",
       "        text-align: right;\n",
       "    }\n",
       "</style>\n",
       "<table border=\"1\" class=\"dataframe\">\n",
       "  <thead>\n",
       "    <tr style=\"text-align: right;\">\n",
       "      <th></th>\n",
       "      <th>Unnamed: 0</th>\n",
       "      <th>1st</th>\n",
       "      <th>2nd</th>\n",
       "      <th>3rd</th>\n",
       "      <th>4th</th>\n",
       "      <th>5th</th>\n",
       "      <th>6th</th>\n",
       "      <th>7th</th>\n",
       "      <th>8th</th>\n",
       "      <th>9th</th>\n",
       "      <th>...</th>\n",
       "      <th>rot</th>\n",
       "      <th>rundif</th>\n",
       "      <th>runline</th>\n",
       "      <th>runlineodds</th>\n",
       "      <th>team</th>\n",
       "      <th>totalruns</th>\n",
       "      <th>vh</th>\n",
       "      <th>winrl</th>\n",
       "      <th>wintotal</th>\n",
       "      <th>gameno</th>\n",
       "    </tr>\n",
       "  </thead>\n",
       "  <tbody>\n",
       "    <tr>\n",
       "      <th>44650</th>\n",
       "      <td>280</td>\n",
       "      <td>1.0</td>\n",
       "      <td>0.0</td>\n",
       "      <td>0.0</td>\n",
       "      <td>0.0</td>\n",
       "      <td>0</td>\n",
       "      <td>0</td>\n",
       "      <td>0</td>\n",
       "      <td>0</td>\n",
       "      <td>0</td>\n",
       "      <td>...</td>\n",
       "      <td>925</td>\n",
       "      <td>-1</td>\n",
       "      <td>1.5</td>\n",
       "      <td>-180.0</td>\n",
       "      <td>MIN</td>\n",
       "      <td>3</td>\n",
       "      <td>V</td>\n",
       "      <td>True</td>\n",
       "      <td>False</td>\n",
       "      <td>22316</td>\n",
       "    </tr>\n",
       "    <tr>\n",
       "      <th>44651</th>\n",
       "      <td>281</td>\n",
       "      <td>0.0</td>\n",
       "      <td>0.0</td>\n",
       "      <td>0.0</td>\n",
       "      <td>0.0</td>\n",
       "      <td>0</td>\n",
       "      <td>2</td>\n",
       "      <td>0</td>\n",
       "      <td>0</td>\n",
       "      <td>x</td>\n",
       "      <td>...</td>\n",
       "      <td>926</td>\n",
       "      <td>1</td>\n",
       "      <td>-1.5</td>\n",
       "      <td>155.0</td>\n",
       "      <td>PHI</td>\n",
       "      <td>3</td>\n",
       "      <td>H</td>\n",
       "      <td>False</td>\n",
       "      <td>True</td>\n",
       "      <td>22316</td>\n",
       "    </tr>\n",
       "    <tr>\n",
       "      <th>44652</th>\n",
       "      <td>282</td>\n",
       "      <td>1.0</td>\n",
       "      <td>0.0</td>\n",
       "      <td>0.0</td>\n",
       "      <td>1.0</td>\n",
       "      <td>0</td>\n",
       "      <td>0</td>\n",
       "      <td>0</td>\n",
       "      <td>1</td>\n",
       "      <td>0</td>\n",
       "      <td>...</td>\n",
       "      <td>927</td>\n",
       "      <td>3</td>\n",
       "      <td>-1.5</td>\n",
       "      <td>148.0</td>\n",
       "      <td>TB</td>\n",
       "      <td>3</td>\n",
       "      <td>V</td>\n",
       "      <td>True</td>\n",
       "      <td>False</td>\n",
       "      <td>22317</td>\n",
       "    </tr>\n",
       "    <tr>\n",
       "      <th>44653</th>\n",
       "      <td>283</td>\n",
       "      <td>0.0</td>\n",
       "      <td>0.0</td>\n",
       "      <td>0.0</td>\n",
       "      <td>0.0</td>\n",
       "      <td>0</td>\n",
       "      <td>0</td>\n",
       "      <td>0</td>\n",
       "      <td>0</td>\n",
       "      <td>0</td>\n",
       "      <td>...</td>\n",
       "      <td>928</td>\n",
       "      <td>-3</td>\n",
       "      <td>1.5</td>\n",
       "      <td>-170.0</td>\n",
       "      <td>SF</td>\n",
       "      <td>3</td>\n",
       "      <td>H</td>\n",
       "      <td>False</td>\n",
       "      <td>True</td>\n",
       "      <td>22317</td>\n",
       "    </tr>\n",
       "    <tr>\n",
       "      <th>44654</th>\n",
       "      <td>284</td>\n",
       "      <td>0.0</td>\n",
       "      <td>0.0</td>\n",
       "      <td>0.0</td>\n",
       "      <td>0.0</td>\n",
       "      <td>0</td>\n",
       "      <td>0</td>\n",
       "      <td>1</td>\n",
       "      <td>0</td>\n",
       "      <td>0</td>\n",
       "      <td>...</td>\n",
       "      <td>929</td>\n",
       "      <td>1</td>\n",
       "      <td>-1.5</td>\n",
       "      <td>130.0</td>\n",
       "      <td>BOS</td>\n",
       "      <td>1</td>\n",
       "      <td>V</td>\n",
       "      <td>False</td>\n",
       "      <td>False</td>\n",
       "      <td>22318</td>\n",
       "    </tr>\n",
       "    <tr>\n",
       "      <th>44655</th>\n",
       "      <td>285</td>\n",
       "      <td>0.0</td>\n",
       "      <td>0.0</td>\n",
       "      <td>0.0</td>\n",
       "      <td>0.0</td>\n",
       "      <td>0</td>\n",
       "      <td>0</td>\n",
       "      <td>0</td>\n",
       "      <td>0</td>\n",
       "      <td>0</td>\n",
       "      <td>...</td>\n",
       "      <td>930</td>\n",
       "      <td>-1</td>\n",
       "      <td>1.5</td>\n",
       "      <td>-150.0</td>\n",
       "      <td>ARI</td>\n",
       "      <td>1</td>\n",
       "      <td>H</td>\n",
       "      <td>True</td>\n",
       "      <td>True</td>\n",
       "      <td>22318</td>\n",
       "    </tr>\n",
       "  </tbody>\n",
       "</table>\n",
       "<p>6 rows × 30 columns</p>\n",
       "</div>"
      ],
      "text/plain": [
       "       Unnamed: 0  1st  2nd  3rd  4th 5th 6th 7th 8th 9th  ...  rot  rundif  \\\n",
       "44650         280  1.0  0.0  0.0  0.0   0   0   0   0   0  ...  925      -1   \n",
       "44651         281  0.0  0.0  0.0  0.0   0   2   0   0   x  ...  926       1   \n",
       "44652         282  1.0  0.0  0.0  1.0   0   0   0   1   0  ...  927       3   \n",
       "44653         283  0.0  0.0  0.0  0.0   0   0   0   0   0  ...  928      -3   \n",
       "44654         284  0.0  0.0  0.0  0.0   0   0   1   0   0  ...  929       1   \n",
       "44655         285  0.0  0.0  0.0  0.0   0   0   0   0   0  ...  930      -1   \n",
       "\n",
       "       runline runlineodds team  totalruns  vh  winrl  wintotal gameno  \n",
       "44650      1.5      -180.0  MIN          3   V   True     False  22316  \n",
       "44651     -1.5       155.0  PHI          3   H  False      True  22316  \n",
       "44652     -1.5       148.0   TB          3   V   True     False  22317  \n",
       "44653      1.5      -170.0   SF          3   H  False      True  22317  \n",
       "44654     -1.5       130.0  BOS          1   V  False     False  22318  \n",
       "44655      1.5      -150.0  ARI          1   H   True      True  22318  \n",
       "\n",
       "[6 rows x 30 columns]"
      ]
     },
     "execution_count": 3,
     "metadata": {},
     "output_type": "execute_result"
    }
   ],
   "source": [
    "data.tail(6)"
   ]
  },
  {
   "cell_type": "code",
   "execution_count": 9,
   "metadata": {},
   "outputs": [
    {
     "name": "stdout",
     "output_type": "stream",
     "text": [
      "10448\n"
     ]
    }
   ],
   "source": [
    "count = 0\n",
    "for i,g in data.groupby(['gameno']):\n",
    "    o_u = g[::2]\n",
    "    if o_u.wintotal.all() == True:\n",
    "        count += 1\n",
    "print(count)"
   ]
  },
  {
   "cell_type": "code",
   "execution_count": 8,
   "metadata": {},
   "outputs": [
    {
     "data": {
      "text/plain": [
       "22327.0"
      ]
     },
     "execution_count": 8,
     "metadata": {},
     "output_type": "execute_result"
    }
   ],
   "source": [
    "44654/2"
   ]
  },
  {
   "cell_type": "code",
   "execution_count": 10,
   "metadata": {},
   "outputs": [
    {
     "data": {
      "text/plain": [
       "0.4679535987817441"
      ]
     },
     "execution_count": 10,
     "metadata": {},
     "output_type": "execute_result"
    }
   ],
   "source": [
    "10448/22327"
   ]
  },
  {
   "cell_type": "code",
   "execution_count": 12,
   "metadata": {},
   "outputs": [
    {
     "data": {
      "text/plain": [
       "95.45454545454545"
      ]
     },
     "execution_count": 12,
     "metadata": {},
     "output_type": "execute_result"
    }
   ],
   "source": [
    "(100/110)*50 + 50"
   ]
  },
  {
   "cell_type": "code",
   "execution_count": null,
   "metadata": {},
   "outputs": [],
   "source": []
  }
 ],
 "metadata": {
  "kernelspec": {
   "display_name": "Python 3",
   "language": "python",
   "name": "python3"
  },
  "language_info": {
   "codemirror_mode": {
    "name": "ipython",
    "version": 3
   },
   "file_extension": ".py",
   "mimetype": "text/x-python",
   "name": "python",
   "nbconvert_exporter": "python",
   "pygments_lexer": "ipython3",
   "version": "3.6.8"
  }
 },
 "nbformat": 4,
 "nbformat_minor": 2
}
