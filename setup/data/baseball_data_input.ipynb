{
 "cells": [
  {
   "cell_type": "code",
   "execution_count": 1,
   "metadata": {},
   "outputs": [],
   "source": [
    "import pandas as pd\n",
    "import numpy as np\n",
    "import xlrd, sqlite3, os, sys\n",
    "from datetime import date"
   ]
  },
  {
   "cell_type": "code",
   "execution_count": 2,
   "metadata": {},
   "outputs": [],
   "source": [
    "# Import Raw Data from excel files into dataFrames\n",
    "df10=pd.read_excel('orig_data/mlb_odds_2010.xlsx')\n",
    "df10['Year'] = 2010\n",
    "df11=pd.read_excel('orig_data/mlb_odds_2011.xlsx')\n",
    "df11['Year'] = 2011\n",
    "df12=pd.read_excel('orig_data/mlb_odds_2012.xlsx')\n",
    "df12['Year'] = 2012\n",
    "df13=pd.read_excel('orig_data/mlb_odds_2013.xlsx')\n",
    "df13['Year'] = 2013\n",
    "df14=pd.read_excel('orig_data/mlb_odds_2014.xlsx')\n",
    "df14['Year'] = 2014\n",
    "df15=pd.read_excel('orig_data/mlb_odds_2015.xlsx')\n",
    "df15['Year'] = 2015\n",
    "df16=pd.read_excel('orig_data/mlb_odds_2016.xlsx')\n",
    "df16['Year'] = 2016\n",
    "df17=pd.read_excel('orig_data/mlb_odds_2017.xlsx')\n",
    "df17['Year'] = 2017\n",
    "df18=pd.read_excel('orig_data/mlb_odds_2018.xlsx')\n",
    "df18['Year'] = 2018\n",
    "df19=pd.read_excel('orig_data/mlb_odds_2019.xlsx')\n",
    "df19['Year'] = 2019"
   ]
  },
  {
   "cell_type": "code",
   "execution_count": 3,
   "metadata": {},
   "outputs": [],
   "source": [
    "# make list of dataFrames\n",
    "dfList = [df10, df11, df12, df13, df14, df15, df16, df17, df18, df19]"
   ]
  },
  {
   "cell_type": "code",
   "execution_count": 4,
   "metadata": {},
   "outputs": [],
   "source": [
    "# reformat data\n",
    "for df in dfList:\n",
    "    try:\n",
    "        dfnew=df['RL'].str.split(pat=\"(\", n=1, expand=True)\n",
    "        dfnewer = dfnew[1].str.rstrip(\"\\)\")\n",
    "        df['run_line_close'] = dfnew[0].apply(float)\n",
    "        df['run_line_odds_close'] = dfnewer.apply(int)\n",
    "    except KeyError:\n",
    "        pass"
   ]
  },
  {
   "cell_type": "code",
   "execution_count": 5,
   "metadata": {},
   "outputs": [],
   "source": [
    "for df in dfList:\n",
    "    df.columns = df.columns.str.strip().str.lower().str.replace(' ', '_').str.replace('(', '').str.replace(')', '')\n",
    "    df.rename({\"vh\": \"visitor_home\", \"final\": \"team_run_total\", \"close\":\"money_line_close\", \"open\":\"money_line_open\", \"openou\":\"over_under_line_open\", \"open_ou\":\"over_under_line_open\", \"unnamed:_18\":\"over_under_odds_open\", \"unnamed:_19\":\"over_under_odds_open\", \"close_ou\":\"over_under_line_close\", \"closeou\":\"over_under_line_close\", \"unnamed:_20\":\"over_under_odds_close\", \"unnamed:_21\":\"over_under_odds_close\"}, axis='columns', inplace=True)    "
   ]
  },
  {
   "cell_type": "code",
   "execution_count": 6,
   "metadata": {},
   "outputs": [],
   "source": [
    "def convt(num):\n",
    "    if type(num) == str:\n",
    "        num = float(num[0]) + .5\n",
    "    return num\n",
    "for df in dfList:\n",
    "    df['over_under_line_close'] = df['over_under_line_close'].apply(convt)"
   ]
  },
  {
   "cell_type": "code",
   "execution_count": 7,
   "metadata": {},
   "outputs": [],
   "source": [
    "# create additional columns\n",
    "for df in dfList:\n",
    "    totRuns = []\n",
    "    counter = 0\n",
    "    try:\n",
    "        for index, row in df.iterrows():\n",
    "            if row.team_run_total == \"NL\":\n",
    "                totRuns.append(np.nan)\n",
    "            elif index % 2 == 0:\n",
    "                counter = 0\n",
    "                counter += row.team_run_total\n",
    "            else:\n",
    "                counter += row.team_run_total\n",
    "                totRuns.append(counter)\n",
    "                totRuns.append(counter)\n",
    "    except TypeError:\n",
    "        print(row)\n",
    "    df['total_runs_game'] = totRuns"
   ]
  },
  {
   "cell_type": "code",
   "execution_count": 8,
   "metadata": {},
   "outputs": [],
   "source": [
    "for df in dfList:\n",
    "    RunDif = []\n",
    "    counter = 0\n",
    "    try:\n",
    "        for index, row in df.iterrows():\n",
    "            if row.team_run_total == \"NL\":\n",
    "                RunDif.append(np.nan)\n",
    "            elif index % 2 == 0:\n",
    "                counter = 0\n",
    "                team1 = row.team_run_total\n",
    "            else:\n",
    "                team2 = row.team_run_total\n",
    "                dif = team1 - team2\n",
    "                RunDif.append(dif)\n",
    "                RunDif.append(-dif)\n",
    "    except TypeError:\n",
    "        print(row)\n",
    "    df['run_dif_game'] = RunDif"
   ]
  },
  {
   "cell_type": "code",
   "execution_count": 9,
   "metadata": {},
   "outputs": [],
   "source": [
    "# for df in dfList:\n",
    "#     winRL = []\n",
    "#     for index, row in df.iterrows():\n",
    "#         # favorite, win by more than 1.5 = True\n",
    "#         # favorite, win by less than 1.5 or lose = False\n",
    "#         # underdog, wins or loses by less than 1.5 = True\n",
    "#         # underdog, loses by more than 1.5 = True\n",
    "#         try:\n",
    "#             if row.run_line_close < 0:\n",
    "#                 if row.run_dif_game > abs(row.run_line_close):\n",
    "#                     winRL.append(1)\n",
    "#                 else:\n",
    "#                     winRL.append(-1)\n",
    "#             else:\n",
    "#                 if row.run_dif_game > 0 or abs(row.run_dif_game) < row.run_line_close:\n",
    "#                     winRL.append(1)\n",
    "#                 else:\n",
    "#                     winRL.append(-1)\n",
    "#         except AttributeError:\n",
    "#             winRL.append(np.nan)\n",
    "#         except TypeError:\n",
    "#             winRL.append(np.nan)\n",
    "#         except ValueError:\n",
    "#             winRL.append(np.nan)\n",
    "#     df['run_line_win'] = winRL"
   ]
  },
  {
   "cell_type": "code",
   "execution_count": 10,
   "metadata": {},
   "outputs": [],
   "source": [
    "# for df in dfList:\n",
    "#     winTot = []\n",
    "#     for index, row in df.iterrows():\n",
    "#         try:\n",
    "#             if index % 2 == 0:\n",
    "#                 if row.total_runs_game > row.over_under_line_close:\n",
    "#                     winTot.append(1)\n",
    "#                 elif row.total_runs_game < row.over_under_line_close:\n",
    "#                     winTot.append(-1)\n",
    "#                 else:\n",
    "#                     winTot.append(0)\n",
    "#             else:\n",
    "#                 if row.total_runs_game > row.over_under_line_close:\n",
    "#                     winTot.append(-1)\n",
    "#                 elif row.total_runs_game < row.over_under_line_close:\n",
    "#                     winTot.append(1)\n",
    "#                 else:\n",
    "#                     winTot.append(0)\n",
    "#         except TypeError:\n",
    "#             winTot.append(0)\n",
    "#     df['over_under_win'] = winTot"
   ]
  },
  {
   "cell_type": "code",
   "execution_count": 11,
   "metadata": {},
   "outputs": [],
   "source": [
    "# for df in dfList:\n",
    "#     winML = []\n",
    "#     for index, row in df.iterrows():\n",
    "#         # favorite, win = True\n",
    "#         # favorite, lose = False\n",
    "#         # underdog, wins = True\n",
    "#         # underdog lose = True\n",
    "#         try:\n",
    "#             if row.run_dif_game > 0:\n",
    "#                 winML.append(1)\n",
    "#             else:\n",
    "#                 winML.append(-1)\n",
    "#         except AttributeError:\n",
    "#             winML.append(np.nan)\n",
    "#         except TypeError:\n",
    "#             winML.append(np.nan)\n",
    "#         except ValueError:\n",
    "#             winML.append(np.nan)\n",
    "#     df['money_line_win'] = winML"
   ]
  },
  {
   "cell_type": "code",
   "execution_count": 12,
   "metadata": {},
   "outputs": [],
   "source": [
    "# convert date format\n",
    "for df in dfList:\n",
    "    df['date'] = df['date'].astype(str) + df['year'].astype(str)\n",
    "    pd.to_numeric(df['date'])\n",
    "    df['date'] = pd.to_datetime(df['date'], errors='ignore', format=\"%m%d%Y\")"
   ]
  },
  {
   "cell_type": "code",
   "execution_count": 13,
   "metadata": {},
   "outputs": [],
   "source": [
    "df1 = pd.concat(dfList, sort=True)"
   ]
  },
  {
   "cell_type": "code",
   "execution_count": 14,
   "metadata": {},
   "outputs": [],
   "source": [
    "df1.drop(['year', 'rl', '1st', '2nd', '3rd', '4th', '5th', '6th', '7th', '8th', '9th'], axis=1, inplace=True)"
   ]
  },
  {
   "cell_type": "code",
   "execution_count": 15,
   "metadata": {},
   "outputs": [],
   "source": [
    "colNew = []\n",
    "i = 0\n",
    "for index, row in df1.iterrows():\n",
    "    if index == 0:\n",
    "        pass\n",
    "    elif index % 2 == 0:\n",
    "        i += 1\n",
    "    colNew.append(i)\n",
    "df1['gameno'] = colNew\n",
    "df1.replace('LOS','LAD',inplace=True)\n",
    "df1.replace('CUB','CHC',inplace=True)\n",
    "df1.replace('SDG','SD',inplace=True)\n",
    "df1.replace('SFO','SF',inplace=True)\n",
    "df1.replace('KAN','KC',inplace=True)\n",
    "df1.replace('TAM','TB',inplace=True)"
   ]
  },
  {
   "cell_type": "code",
   "execution_count": 16,
   "metadata": {},
   "outputs": [],
   "source": [
    "df1 = df1.reindex(columns=['date', 'gameno', 'team', 'visitor_home', 'team_run_total', 'total_runs_game', 'money_line_close', 'money_line_open', 'over_under_line_close', 'over_under_line_open', 'over_under_odds_close', 'over_under_odds_open', 'pitcher', 'rot', 'run_dif_game', 'run_line_close', 'run_line_odds_close'])"
   ]
  },
  {
   "cell_type": "code",
   "execution_count": 17,
   "metadata": {},
   "outputs": [],
   "source": [
    "df1 = df1[df1.over_under_line_close < 100]"
   ]
  },
  {
   "cell_type": "code",
   "execution_count": 18,
   "metadata": {},
   "outputs": [],
   "source": [
    "df1 = df1[df1.over_under_line_close > 0]"
   ]
  },
  {
   "cell_type": "code",
   "execution_count": 19,
   "metadata": {},
   "outputs": [
    {
     "data": {
      "text/plain": [
       "array([ 9. ,  7.5,  7. ,  8.5,  8. ,  9.5, 10. , 10.5, 11.5,  6.5, 11. ,\n",
       "       13. , 14.5,  6. , 12. ,  5.5, 12.5, 14. ,  5. , 13.5])"
      ]
     },
     "execution_count": 19,
     "metadata": {},
     "output_type": "execute_result"
    }
   ],
   "source": [
    "df1['over_under_line_close'].unique()"
   ]
  },
  {
   "cell_type": "code",
   "execution_count": 20,
   "metadata": {},
   "outputs": [],
   "source": [
    "# df1.set_index('date', inplace=True)"
   ]
  },
  {
   "cell_type": "code",
   "execution_count": 21,
   "metadata": {},
   "outputs": [],
   "source": [
    "df1.replace(['NL', 'nan'], np.nan, inplace=True)"
   ]
  },
  {
   "cell_type": "code",
   "execution_count": 22,
   "metadata": {},
   "outputs": [],
   "source": [
    "csv_path = os.path.join(os.path.join(os.path.dirname(os.getcwd()), 'data', 'baseball.csv'))\n",
    "df1.to_csv(csv_path)"
   ]
  },
  {
   "cell_type": "code",
   "execution_count": 23,
   "metadata": {},
   "outputs": [],
   "source": [
    "# team_run_total, run_dif_game has NL, run_line_close & run_line_odds_close needs to change nan to 'NaN'"
   ]
  },
  {
   "cell_type": "code",
   "execution_count": 24,
   "metadata": {},
   "outputs": [],
   "source": [
    "# DBFILENAME = os.path.join(os.path.abspath(\"\"), 'baseball.db')\n",
    "# with sqlite3.connect(DBFILENAME) as conn:\n",
    "#     df1.to_sql('games', con=conn, if_exists='replace', dtype={'date': 'DATETIME', '1st': 'INTEGER', '2nd': 'INTEGER', '3rd': \"INTEGER\", '4th':'INTEGER', '5th': 'INTEGER', '6th': 'INTEGER', '7th':'INTEGER', '8th': 'INTEGER', '9th': 'INTEGER', 'close': 'REAL', 'close_ou': 'REAL', 'closeouodds': 'REAL', 'final': 'REAL', 'gameno': 'REAL', 'open':\"REAL\", 'open_ou': 'REAL', 'openou':'REAL', 'openouodds': 'REAL', 'pitcher': 'TEXT', 'rot':'INTEGER', 'rundif': 'REAL', 'runline':'REAL', 'runlineodds': 'REAL', 'team': 'TEXT', 'totalruns': 'INTEGER', 'vh': 'TEXT', 'winrl':'BOOLEAN', 'wintotal': 'BOOLEAN'})"
   ]
  }
 ],
 "metadata": {
  "kernelspec": {
   "display_name": "Python 3",
   "language": "python",
   "name": "python3"
  },
  "language_info": {
   "codemirror_mode": {
    "name": "ipython",
    "version": 3
   },
   "file_extension": ".py",
   "mimetype": "text/x-python",
   "name": "python",
   "nbconvert_exporter": "python",
   "pygments_lexer": "ipython3",
   "version": "3.6.8"
  }
 },
 "nbformat": 4,
 "nbformat_minor": 2
}
