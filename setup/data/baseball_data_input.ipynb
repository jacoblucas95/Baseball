{
 "cells": [
  {
   "cell_type": "code",
   "execution_count": 1,
   "metadata": {},
   "outputs": [],
   "source": [
    "import pandas as pd\n",
    "import numpy as np\n",
    "import xlrd, sqlite3, os, sys\n",
    "from datetime import date"
   ]
  },
  {
   "cell_type": "code",
   "execution_count": 2,
   "metadata": {},
   "outputs": [],
   "source": [
    "# Import Raw Data from excel files into dataFrames\n",
    "df10=pd.read_excel('orig_data/mlb_odds_2010.xlsx')\n",
    "df10['Year'] = 2010\n",
    "df11=pd.read_excel('orig_data/mlb_odds_2011.xlsx')\n",
    "df11['Year'] = 2011\n",
    "df12=pd.read_excel('orig_data/mlb_odds_2012.xlsx')\n",
    "df12['Year'] = 2012\n",
    "df13=pd.read_excel('orig_data/mlb_odds_2013.xlsx')\n",
    "df13['Year'] = 2013\n",
    "df14=pd.read_excel('orig_data/mlb_odds_2014.xlsx')\n",
    "df14['Year'] = 2014\n",
    "df15=pd.read_excel('orig_data/mlb_odds_2015.xlsx')\n",
    "df15['Year'] = 2015\n",
    "df16=pd.read_excel('orig_data/mlb_odds_2016.xlsx')\n",
    "df16['Year'] = 2016\n",
    "df17=pd.read_excel('orig_data/mlb_odds_2017.xlsx')\n",
    "df17['Year'] = 2017\n",
    "df18=pd.read_excel('orig_data/mlb_odds_2018.xlsx')\n",
    "df18['Year'] = 2018\n",
    "df19=pd.read_excel('orig_data/mlb_odds_2019.xlsx')\n",
    "df19['Year'] = 2019"
   ]
  },
  {
   "cell_type": "code",
   "execution_count": 3,
   "metadata": {},
   "outputs": [],
   "source": [
    "# make list of dataFrames\n",
    "dfList = [df10, df11, df12, df13, df14, df15, df16, df17, df18, df19]"
   ]
  },
  {
   "cell_type": "code",
   "execution_count": 4,
   "metadata": {},
   "outputs": [],
   "source": [
    "# reformat data\n",
    "for df in dfList:\n",
    "    try:\n",
    "        dfnew=df['RL'].str.split(pat=\"(\", n=1, expand=True)\n",
    "        dfnewer = dfnew[1].str.rstrip(\"\\)\")\n",
    "        df['RunLine'] = dfnew[0].apply(float)\n",
    "        df['RunLineOdds'] = dfnewer.apply(int)\n",
    "        df.rename({\"openou\":\"open_ou\", \"Unnamed: 18\":\"OpenOUOdds\", \"Unnamed: 19\":\"OpenOUOdds\", \"closeou\":\"close_ou\", \"closeOU\":\"close_ou\", \"close OU\":\"close_ou\", \"CloseOU\":\"close_ou\", \"Unnamed: 20\":\"CloseOUOdds\", \"Unnamed: 21\":\"CloseOUOdds\"}, axis='columns', inplace=True)\n",
    "    except:\n",
    "        df.rename({\"openou\":\"open_ou\", \"Unnamed: 18\":\"OpenOUOdds\", \"Unnamed: 19\":\"OpenOUOdds\", \"closeou\":\"close_ou\", \"closeOU\":\"close_ou\", \"close OU\":\"close_ou\", \"CloseOU\":\"close_ou\", \"Unnamed: 20\":\"CloseOUOdds\", \"Unnamed: 21\":\"CloseOUOdds\"}, axis='columns', inplace=True)\n",
    "    df.columns = df.columns.str.strip().str.lower().str.replace(' ', '_').str.replace('(', '').str.replace(')', '')"
   ]
  },
  {
   "cell_type": "code",
   "execution_count": 5,
   "metadata": {},
   "outputs": [],
   "source": [
    "def convt(num):\n",
    "    if type(num) == str:\n",
    "        num = float(num[0]) + .5\n",
    "    return num\n",
    "for df in dfList:\n",
    "    df['close_ou'] = df['close_ou'].apply(convt)"
   ]
  },
  {
   "cell_type": "code",
   "execution_count": 6,
   "metadata": {},
   "outputs": [],
   "source": [
    "# convert date format\n",
    "for df in dfList:\n",
    "    df['date'] = df['date'].astype(str) + df['year'].astype(str)\n",
    "    pd.to_numeric(df['date'])\n",
    "    df['date'] = pd.to_datetime(df['date'], errors='ignore', utc=True, format=\"%m%d%Y\")"
   ]
  },
  {
   "cell_type": "code",
   "execution_count": 7,
   "metadata": {},
   "outputs": [],
   "source": [
    "# create additional columns\n",
    "for df in dfList:\n",
    "    totRuns = []\n",
    "    counter = 0\n",
    "    try:\n",
    "        for index, row in df.iterrows():\n",
    "            if row.final == \"NL\":\n",
    "                totRuns.append(row.final)\n",
    "            elif index % 2 == 0:\n",
    "                counter = 0\n",
    "                counter += row.final\n",
    "            else:\n",
    "                counter += row.final\n",
    "                totRuns.append(counter)\n",
    "                totRuns.append(counter)\n",
    "    except TypeError:\n",
    "        print(row)\n",
    "    df['totalruns'] = totRuns\n",
    "    RunDif = []\n",
    "    counter = 0\n",
    "    try:\n",
    "        for index, row in df.iterrows():\n",
    "            if row.final == \"NL\":\n",
    "                RunDif.append(row.final)\n",
    "            elif index % 2 == 0:\n",
    "                counter = 0\n",
    "                team1 = row.final\n",
    "            else:\n",
    "                team2 = row.final\n",
    "                dif = team1 - team2\n",
    "                RunDif.append(dif)\n",
    "                RunDif.append(-dif)\n",
    "    except TypeError:\n",
    "        print(row)\n",
    "    df['rundif'] = RunDif\n",
    "    winRL = []\n",
    "    for index, row in df.iterrows():\n",
    "        # favorite, win by more than 1.5 = True\n",
    "        # favorite, win by less than 1.5 or lose = False\n",
    "        # underdog, wins or loses by less than 1.5 = True\n",
    "        # underdog, loses by more than 1.5 = True\n",
    "        try:\n",
    "            if row.runline < 0:\n",
    "                if row.rundif > abs(row.runline):\n",
    "                    winRL.append(True)\n",
    "                else:\n",
    "                    winRL.append(False)\n",
    "            else:\n",
    "                if row.rundif > 0 or abs(row.rundif) < row.runline:\n",
    "                    winRL.append(True)\n",
    "                else:\n",
    "                    winRL.append(False)\n",
    "        except AttributeError:\n",
    "            winRL.append(\"NaN\")\n",
    "        except TypeError:\n",
    "            winRL.append(\"NaN\")\n",
    "        except ValueError:\n",
    "            winRL.append(\"NaN\")\n",
    "    df['winrl'] = winRL\n",
    "    winTot = []\n",
    "    for index, row in df.iterrows():\n",
    "        try:\n",
    "            if index % 2 == 0:\n",
    "                if row.totalruns > row.close_ou:\n",
    "                    winTot.append(True)\n",
    "                else:\n",
    "                    winTot.append(False)\n",
    "            else:\n",
    "                if row.totalruns > row.close_ou:\n",
    "                    winTot.append(False)\n",
    "                else:\n",
    "                    winTot.append(True)\n",
    "        except TypeError:\n",
    "            winTot.append(True)\n",
    "    df['wintotal'] = winTot"
   ]
  },
  {
   "cell_type": "code",
   "execution_count": 8,
   "metadata": {},
   "outputs": [],
   "source": [
    "df1 = pd.concat(dfList, sort=True)"
   ]
  },
  {
   "cell_type": "code",
   "execution_count": 9,
   "metadata": {},
   "outputs": [],
   "source": [
    "df1.drop(['year'], axis=1, inplace=True)\n",
    "df1.drop(['rl'], axis=1, inplace=True)"
   ]
  },
  {
   "cell_type": "code",
   "execution_count": 10,
   "metadata": {},
   "outputs": [
    {
     "name": "stdout",
     "output_type": "stream",
     "text": [
      "<class 'pandas.core.frame.DataFrame'>\n",
      "Int64Index: 44656 entries, 0 to 285\n",
      "Data columns (total 28 columns):\n",
      "1st            44654 non-null float64\n",
      "2nd            44654 non-null float64\n",
      "3rd            44654 non-null float64\n",
      "4th            44654 non-null float64\n",
      "5th            44654 non-null object\n",
      "6th            44652 non-null object\n",
      "7th            44650 non-null object\n",
      "8th            44642 non-null object\n",
      "9th            44633 non-null object\n",
      "close          44656 non-null float64\n",
      "close_ou       44656 non-null float64\n",
      "closeouodds    44656 non-null int64\n",
      "date           44656 non-null datetime64[ns, UTC]\n",
      "final          44656 non-null object\n",
      "open           44656 non-null int64\n",
      "open_ou        44370 non-null float64\n",
      "openou         286 non-null float64\n",
      "openouodds     44656 non-null int64\n",
      "pitcher        44613 non-null object\n",
      "rot            44656 non-null int64\n",
      "rundif         44656 non-null object\n",
      "runline        24926 non-null float64\n",
      "runlineodds    24926 non-null float64\n",
      "team           44656 non-null object\n",
      "totalruns      44656 non-null object\n",
      "vh             44656 non-null object\n",
      "winrl          44656 non-null object\n",
      "wintotal       44656 non-null bool\n",
      "dtypes: bool(1), datetime64[ns, UTC](1), float64(10), int64(4), object(12)\n",
      "memory usage: 9.6+ MB\n"
     ]
    }
   ],
   "source": [
    "df1.info()"
   ]
  },
  {
   "cell_type": "code",
   "execution_count": 11,
   "metadata": {},
   "outputs": [],
   "source": [
    "df1.reindex(columns=['date', '1st', '2nd', '3rd', '4th', '5th', '6th', '7th', '8th', '9th', 'close', 'close_ou', 'closeouodds', 'final', 'gameno', 'open', 'open_ou', 'openou', 'openouodds', 'pitcher', 'rot', 'rundif', 'runline', 'runlineodds', 'team', 'totalruns', 'vh', 'winrl', 'wintotal'])\n",
    "colNew = []\n",
    "i = 0\n",
    "for index, row in df1.iterrows():\n",
    "    if index == 0:\n",
    "        pass\n",
    "    elif index % 2 == 0:\n",
    "        i += 1\n",
    "    colNew.append(i)\n",
    "df1['gameno'] = colNew\n",
    "df1.replace('LOS','LAD',inplace=True)\n",
    "df1.replace('CUB','CHC',inplace=True)\n",
    "df1.replace('SDG','SD',inplace=True)\n",
    "df1.replace('SFO','SF',inplace=True)\n",
    "df1.replace('KAN','KC',inplace=True)\n",
    "df1.replace('TAM','TB',inplace=True)\n"
   ]
  },
  {
   "cell_type": "code",
   "execution_count": 13,
   "metadata": {},
   "outputs": [],
   "source": [
    "# DBFILENAME = os.path.join(os.path.abspath(\"\"), 'baseball.db')\n",
    "# with sqlite3.connect(DBFILENAME) as conn:\n",
    "#     df1.to_sql('games', con=conn, if_exists='replace', dtype={'date': 'DATETIME', '1st': 'INTEGER', '2nd': 'INTEGER', '3rd': \"INTEGER\", '4th':'INTEGER', '5th': 'INTEGER', '6th': 'INTEGER', '7th':'INTEGER', '8th': 'INTEGER', '9th': 'INTEGER', 'close': 'REAL', 'close_ou': 'REAL', 'closeouodds': 'REAL', 'final': 'REAL', 'gameno': 'REAL', 'open':\"REAL\", 'open_ou': 'REAL', 'openou':'REAL', 'openouodds': 'REAL', 'pitcher': 'TEXT', 'rot':'INTEGER', 'rundif': 'REAL', 'runline':'REAL', 'runlineodds': 'REAL', 'team': 'TEXT', 'totalruns': 'INTEGER', 'vh': 'TEXT', 'winrl':'BOOLEAN', 'wintotal': 'BOOLEAN'})"
   ]
  },
  {
   "cell_type": "code",
   "execution_count": 14,
   "metadata": {},
   "outputs": [],
   "source": [
    "csv_path = os.path.join(os.path.join(os.path.dirname(os.getcwd()), 'data', 'baseball.csv'))\n",
    "df1.to_csv(csv_path)"
   ]
  },
  {
   "cell_type": "code",
   "execution_count": null,
   "metadata": {},
   "outputs": [],
   "source": []
  }
 ],
 "metadata": {
  "kernelspec": {
   "display_name": "Python 3",
   "language": "python",
   "name": "python3"
  },
  "language_info": {
   "codemirror_mode": {
    "name": "ipython",
    "version": 3
   },
   "file_extension": ".py",
   "mimetype": "text/x-python",
   "name": "python",
   "nbconvert_exporter": "python",
   "pygments_lexer": "ipython3",
   "version": "3.6.8"
  }
 },
 "nbformat": 4,
 "nbformat_minor": 2
}
