{
 "cells": [
  {
   "cell_type": "code",
   "execution_count": 2,
   "metadata": {},
   "outputs": [],
   "source": [
    "import pandas as pd\n",
    "import numpy as np\n",
    "import time\n",
    "import datetime"
   ]
  },
  {
   "cell_type": "code",
   "execution_count": 3,
   "metadata": {},
   "outputs": [],
   "source": [
    "df10 = pd.read_csv('2010SKED.TXT', sep=',', header=None)\n",
    "df11 = pd.read_csv('2011SKED.TXT', sep=',', header=None)\n",
    "df12 = pd.read_csv('2012SKED.TXT', sep=',', header=None)\n",
    "df13 = pd.read_csv('2013SKED.TXT', sep=',', header=None)\n",
    "df14 = pd.read_csv('2014SKED.TXT', sep=',', header=None)\n",
    "df15 = pd.read_csv('2015SKED.TXT', sep=',', header=None)\n",
    "df16 = pd.read_csv('2016SKED.TXT', sep=',', header=None)\n",
    "df17 = pd.read_csv('2017SKED.TXT', sep=',', header=None)\n",
    "df18 = pd.read_csv('2018SKED.TXT', sep=',', header=None)"
   ]
  },
  {
   "cell_type": "code",
   "execution_count": 4,
   "metadata": {},
   "outputs": [],
   "source": [
    "df_list = [df10,df11,df12,df13,df14,df15,df16,df17,df18]"
   ]
  },
  {
   "cell_type": "code",
   "execution_count": 20,
   "metadata": {},
   "outputs": [],
   "source": [
    "for df in df_list:\n",
    "    df.drop(df.tail(1).index,inplace=True)"
   ]
  },
  {
   "cell_type": "code",
   "execution_count": 5,
   "metadata": {},
   "outputs": [],
   "source": [
    "for df in df_list:\n",
    "    df.columns = ['date','num_games','day_of_week','visitor','vl','game_num','home','hl','game_num2','time_of_day','postponed','makeup_date']    "
   ]
  },
  {
   "cell_type": "code",
   "execution_count": 6,
   "metadata": {},
   "outputs": [],
   "source": [
    "for df in df_list:\n",
    "    df.drop(['num_games','vl','game_num','game_num2','hl'],axis=1, inplace=True)\n",
    "    df.fillna(0, inplace=True)\n"
   ]
  },
  {
   "cell_type": "code",
   "execution_count": 26,
   "metadata": {
    "scrolled": true
   },
   "outputs": [],
   "source": [
    "for df in df_list:\n",
    "    df['date'] = df['date'].astype(str)\n",
    "    pd.to_numeric(df['date'])\n",
    "    df['date'] = pd.to_datetime(df['date'], errors='ignore', utc=True, format=\"%m%d%Y\")\n"
   ]
  },
  {
   "cell_type": "code",
   "execution_count": 27,
   "metadata": {},
   "outputs": [],
   "source": [
    "for df in df_list:\n",
    "    df.replace('NYA','NYY',inplace=True)\n",
    "    df.replace('SDN','SD',inplace=True)\n",
    "    df.replace('CHN','CHC',inplace=True)\n",
    "    df.replace('SLN','STL',inplace=True)\n",
    "    df.replace('NYN','NYM',inplace=True)\n",
    "    df.replace('SFN','SF',inplace=True)\n",
    "    df.replace('FLO','MIA',inplace=True)\n",
    "    df.replace('LAN','LAD',inplace=True)\n",
    "    df.replace('TBA','TB',inplace=True)\n",
    "    df.replace('KCA','KC',inplace=True)\n",
    "    df.replace('CHA','CWS',inplace=True)\n",
    "    df.replace('FLO','MIA',inplace=True)"
   ]
  },
  {
   "cell_type": "code",
   "execution_count": 31,
   "metadata": {},
   "outputs": [],
   "source": [
    "df1 = pd.concat(df_list, sort=True)"
   ]
  },
  {
   "cell_type": "code",
   "execution_count": 33,
   "metadata": {},
   "outputs": [],
   "source": [
    "df1.to_csv('schedule.csv')"
   ]
  },
  {
   "cell_type": "code",
   "execution_count": null,
   "metadata": {},
   "outputs": [],
   "source": []
  }
 ],
 "metadata": {
  "kernelspec": {
   "display_name": "Python 3",
   "language": "python",
   "name": "python3"
  },
  "language_info": {
   "codemirror_mode": {
    "name": "ipython",
    "version": 3
   },
   "file_extension": ".py",
   "mimetype": "text/x-python",
   "name": "python",
   "nbconvert_exporter": "python",
   "pygments_lexer": "ipython3",
   "version": "3.6.8"
  }
 },
 "nbformat": 4,
 "nbformat_minor": 2
}
