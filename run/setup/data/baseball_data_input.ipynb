{
 "cells": [
  {
   "cell_type": "code",
   "execution_count": 1,
   "metadata": {},
   "outputs": [],
   "source": [
    "import pandas as pd\n",
    "import numpy as np\n",
    "import xlrd, sqlite3, os, sys\n",
    "from datetime import date, datetime\n",
    "import time"
   ]
  },
  {
   "cell_type": "code",
   "execution_count": 2,
   "metadata": {},
   "outputs": [],
   "source": [
    "# Import Raw Data from excel files into dataFrames\n",
    "df10=pd.read_excel('orig_data/mlb_odds_2010.xlsx')\n",
    "df10['Year'] = 2010\n",
    "df11=pd.read_excel('orig_data/mlb_odds_2011.xlsx')\n",
    "df11['Year'] = 2011\n",
    "df12=pd.read_excel('orig_data/mlb_odds_2012.xlsx')\n",
    "df12['Year'] = 2012\n",
    "df13=pd.read_excel('orig_data/mlb_odds_2013.xlsx')\n",
    "df13['Year'] = 2013\n",
    "df14=pd.read_excel('orig_data/mlb_odds_2014.xlsx')\n",
    "df14['Year'] = 2014\n",
    "df15=pd.read_excel('orig_data/mlb_odds_2015.xlsx')\n",
    "df15['Year'] = 2015\n",
    "df16=pd.read_excel('orig_data/mlb_odds_2016.xlsx')\n",
    "df16['Year'] = 2016\n",
    "df17=pd.read_excel('orig_data/mlb_odds_2017.xlsx')\n",
    "df17['Year'] = 2017\n",
    "df18=pd.read_excel('orig_data/mlb_odds_2018.xlsx')\n",
    "df18['Year'] = 2018\n",
    "df19=pd.read_excel('orig_data/mlb_odds_2019.xlsx')\n",
    "df19['Year'] = 2019"
   ]
  },
  {
   "cell_type": "code",
   "execution_count": 3,
   "metadata": {},
   "outputs": [],
   "source": [
    "# make list of dataFrames\n",
    "dfList = [df10, df11, df12, df13, df14, df15, df16, df17, df18, df19]"
   ]
  },
  {
   "cell_type": "code",
   "execution_count": 4,
   "metadata": {},
   "outputs": [],
   "source": [
    "# reformat data\n",
    "for df in dfList:\n",
    "    try:\n",
    "        dfnew=df['RL'].str.split(pat=\"(\", n=1, expand=True)\n",
    "        dfnewer = dfnew[1].str.rstrip(\"\\)\")\n",
    "        df['run_line_close'] = dfnew[0].apply(float)\n",
    "        df['run_line_odds_close'] = dfnewer.apply(int)\n",
    "    except KeyError:\n",
    "        pass"
   ]
  },
  {
   "cell_type": "code",
   "execution_count": 5,
   "metadata": {},
   "outputs": [],
   "source": [
    "for df in dfList:\n",
    "    df.columns = df.columns.str.strip().str.lower().str.replace(' ', '_').str.replace('(', '').str.replace(')', '')\n",
    "    df.rename({\"vh\": \"visitor_home\", \"final\": \"team_run_total\", \"close\":\"money_line_close\", \"open\":\"money_line_open\", \"openou\":\"over_under_line_open\", \"open_ou\":\"over_under_line_open\", \"unnamed:_18\":\"over_under_odds_open\", \"unnamed:_19\":\"over_under_odds_open\", \"close_ou\":\"over_under_line_close\", \"closeou\":\"over_under_line_close\", \"unnamed:_20\":\"over_under_odds_close\", \"unnamed:_21\":\"over_under_odds_close\"}, axis='columns', inplace=True)    "
   ]
  },
  {
   "cell_type": "code",
   "execution_count": 6,
   "metadata": {},
   "outputs": [],
   "source": [
    "def convt(num):\n",
    "    if type(num) == str:\n",
    "        num = float(num[0]) + .5\n",
    "    return num\n",
    "for df in dfList:\n",
    "    df['over_under_line_close'] = df['over_under_line_close'].apply(convt)"
   ]
  },
  {
   "cell_type": "code",
   "execution_count": 7,
   "metadata": {},
   "outputs": [],
   "source": [
    "# create additional columns\n",
    "for df in dfList:\n",
    "    totRuns = []\n",
    "    counter = 0\n",
    "    try:\n",
    "        for index, row in df.iterrows():\n",
    "            if row.team_run_total == \"NL\":\n",
    "                totRuns.append(np.nan)\n",
    "            elif index % 2 == 0:\n",
    "                counter = 0\n",
    "                counter += row.team_run_total\n",
    "            else:\n",
    "                counter += row.team_run_total\n",
    "                totRuns.append(counter)\n",
    "                totRuns.append(counter)\n",
    "    except TypeError:\n",
    "        print(row)\n",
    "    df['total_runs_game'] = totRuns"
   ]
  },
  {
   "cell_type": "code",
   "execution_count": 8,
   "metadata": {},
   "outputs": [],
   "source": [
    "for df in dfList:\n",
    "    RunDif = []\n",
    "    counter = 0\n",
    "    try:\n",
    "        for index, row in df.iterrows():\n",
    "            if row.team_run_total == \"NL\":\n",
    "                RunDif.append(np.nan)\n",
    "            elif index % 2 == 0:\n",
    "                counter = 0\n",
    "                team1 = row.team_run_total\n",
    "            else:\n",
    "                team2 = row.team_run_total\n",
    "                dif = team1 - team2\n",
    "                RunDif.append(dif)\n",
    "                RunDif.append(-dif)\n",
    "    except TypeError:\n",
    "        print(row)\n",
    "    df['run_dif_game'] = RunDif"
   ]
  },
  {
   "cell_type": "code",
   "execution_count": 9,
   "metadata": {},
   "outputs": [],
   "source": [
    "# for df in dfList:\n",
    "#     winRL = []\n",
    "#     for index, row in df.iterrows():\n",
    "#         # favorite, win by more than 1.5 = True\n",
    "#         # favorite, win by less than 1.5 or lose = False\n",
    "#         # underdog, wins or loses by less than 1.5 = True\n",
    "#         # underdog, loses by more than 1.5 = True\n",
    "#         try:\n",
    "#             if row.run_line_close < 0:\n",
    "#                 if row.run_dif_game > abs(row.run_line_close):\n",
    "#                     winRL.append(1)\n",
    "#                 else:\n",
    "#                     winRL.append(-1)\n",
    "#             else:\n",
    "#                 if row.run_dif_game > 0 or abs(row.run_dif_game) < row.run_line_close:\n",
    "#                     winRL.append(1)\n",
    "#                 else:\n",
    "#                     winRL.append(-1)\n",
    "#         except AttributeError:\n",
    "#             winRL.append(np.nan)\n",
    "#         except TypeError:\n",
    "#             winRL.append(np.nan)\n",
    "#         except ValueError:\n",
    "#             winRL.append(np.nan)\n",
    "#     df['run_line_win'] = winRL"
   ]
  },
  {
   "cell_type": "code",
   "execution_count": 10,
   "metadata": {},
   "outputs": [],
   "source": [
    "# for df in dfList:\n",
    "#     winTot = []\n",
    "#     for index, row in df.iterrows():\n",
    "#         try:\n",
    "#             if index % 2 == 0:\n",
    "#                 if row.total_runs_game > row.over_under_line_close:\n",
    "#                     winTot.append(1)\n",
    "#                 elif row.total_runs_game < row.over_under_line_close:\n",
    "#                     winTot.append(-1)\n",
    "#                 else:\n",
    "#                     winTot.append(0)\n",
    "#             else:\n",
    "#                 if row.total_runs_game > row.over_under_line_close:\n",
    "#                     winTot.append(-1)\n",
    "#                 elif row.total_runs_game < row.over_under_line_close:\n",
    "#                     winTot.append(1)\n",
    "#                 else:\n",
    "#                     winTot.append(0)\n",
    "#         except TypeError:\n",
    "#             winTot.append(0)\n",
    "#     df['over_under_win'] = winTot"
   ]
  },
  {
   "cell_type": "code",
   "execution_count": 11,
   "metadata": {},
   "outputs": [],
   "source": [
    "# for df in dfList:\n",
    "#     winML = []\n",
    "#     for index, row in df.iterrows():\n",
    "#         # favorite, win = True\n",
    "#         # favorite, lose = False\n",
    "#         # underdog, wins = True\n",
    "#         # underdog lose = True\n",
    "#         try:\n",
    "#             if row.run_dif_game > 0:\n",
    "#                 winML.append(1)\n",
    "#             else:\n",
    "#                 winML.append(-1)\n",
    "#         except AttributeError:\n",
    "#             winML.append(np.nan)\n",
    "#         except TypeError:\n",
    "#             winML.append(np.nan)\n",
    "#         except ValueError:\n",
    "#             winML.append(np.nan)\n",
    "#     df['money_line_win'] = winML"
   ]
  },
  {
   "cell_type": "code",
   "execution_count": 12,
   "metadata": {},
   "outputs": [
    {
     "ename": "ValueError",
     "evalue": "year 4042010 is out of range",
     "output_type": "error",
     "traceback": [
      "\u001b[0;31m---------------------------------------------------------------------------\u001b[0m",
      "\u001b[0;31mTypeError\u001b[0m                                 Traceback (most recent call last)",
      "\u001b[0;32m/Library/Frameworks/Python.framework/Versions/3.6/lib/python3.6/site-packages/pandas/core/arrays/datetimes.py\u001b[0m in \u001b[0;36mobjects_to_datetime64ns\u001b[0;34m(data, dayfirst, yearfirst, utc, errors, require_iso8601, allow_object)\u001b[0m\n\u001b[1;32m   1860\u001b[0m         \u001b[0;32mtry\u001b[0m\u001b[0;34m:\u001b[0m\u001b[0;34m\u001b[0m\u001b[0;34m\u001b[0m\u001b[0m\n\u001b[0;32m-> 1861\u001b[0;31m             \u001b[0mvalues\u001b[0m\u001b[0;34m,\u001b[0m \u001b[0mtz_parsed\u001b[0m \u001b[0;34m=\u001b[0m \u001b[0mconversion\u001b[0m\u001b[0;34m.\u001b[0m\u001b[0mdatetime_to_datetime64\u001b[0m\u001b[0;34m(\u001b[0m\u001b[0mdata\u001b[0m\u001b[0;34m)\u001b[0m\u001b[0;34m\u001b[0m\u001b[0;34m\u001b[0m\u001b[0m\n\u001b[0m\u001b[1;32m   1862\u001b[0m             \u001b[0;31m# If tzaware, these values represent unix timestamps, so we\u001b[0m\u001b[0;34m\u001b[0m\u001b[0;34m\u001b[0m\u001b[0;34m\u001b[0m\u001b[0m\n",
      "\u001b[0;32mpandas/_libs/tslibs/conversion.pyx\u001b[0m in \u001b[0;36mpandas._libs.tslibs.conversion.datetime_to_datetime64\u001b[0;34m()\u001b[0m\n",
      "\u001b[0;31mTypeError\u001b[0m: Unrecognized value type: <class 'str'>",
      "\nDuring handling of the above exception, another exception occurred:\n",
      "\u001b[0;31mValueError\u001b[0m                                Traceback (most recent call last)",
      "\u001b[0;32m<ipython-input-12-b8ace3f3afc4>\u001b[0m in \u001b[0;36m<module>\u001b[0;34m\u001b[0m\n\u001b[1;32m      3\u001b[0m \u001b[0;31m#x\u001b[0m\u001b[0;34m\u001b[0m\u001b[0;34m\u001b[0m\u001b[0;34m\u001b[0m\u001b[0m\n\u001b[1;32m      4\u001b[0m \u001b[0;34m\u001b[0m\u001b[0m\n\u001b[0;32m----> 5\u001b[0;31m \u001b[0my\u001b[0m \u001b[0;34m=\u001b[0m \u001b[0mpd\u001b[0m\u001b[0;34m.\u001b[0m\u001b[0mDatetimeIndex\u001b[0m\u001b[0;34m(\u001b[0m\u001b[0mdf_test\u001b[0m\u001b[0;34m.\u001b[0m\u001b[0mvalues\u001b[0m\u001b[0;34m)\u001b[0m\u001b[0;34m\u001b[0m\u001b[0;34m\u001b[0m\u001b[0m\n\u001b[0m\u001b[1;32m      6\u001b[0m \u001b[0my\u001b[0m\u001b[0;34m\u001b[0m\u001b[0;34m\u001b[0m\u001b[0m\n\u001b[1;32m      7\u001b[0m \u001b[0;34m\u001b[0m\u001b[0m\n",
      "\u001b[0;32m/Library/Frameworks/Python.framework/Versions/3.6/lib/python3.6/site-packages/pandas/core/indexes/datetimes.py\u001b[0m in \u001b[0;36m__new__\u001b[0;34m(cls, data, freq, start, end, periods, tz, normalize, closed, ambiguous, dayfirst, yearfirst, dtype, copy, name, verify_integrity)\u001b[0m\n\u001b[1;32m    301\u001b[0m             \u001b[0mdata\u001b[0m\u001b[0;34m,\u001b[0m \u001b[0mdtype\u001b[0m\u001b[0;34m=\u001b[0m\u001b[0mdtype\u001b[0m\u001b[0;34m,\u001b[0m \u001b[0mcopy\u001b[0m\u001b[0;34m=\u001b[0m\u001b[0mcopy\u001b[0m\u001b[0;34m,\u001b[0m \u001b[0mtz\u001b[0m\u001b[0;34m=\u001b[0m\u001b[0mtz\u001b[0m\u001b[0;34m,\u001b[0m \u001b[0mfreq\u001b[0m\u001b[0;34m=\u001b[0m\u001b[0mfreq\u001b[0m\u001b[0;34m,\u001b[0m\u001b[0;34m\u001b[0m\u001b[0;34m\u001b[0m\u001b[0m\n\u001b[1;32m    302\u001b[0m             \u001b[0mdayfirst\u001b[0m\u001b[0;34m=\u001b[0m\u001b[0mdayfirst\u001b[0m\u001b[0;34m,\u001b[0m \u001b[0myearfirst\u001b[0m\u001b[0;34m=\u001b[0m\u001b[0myearfirst\u001b[0m\u001b[0;34m,\u001b[0m \u001b[0mambiguous\u001b[0m\u001b[0;34m=\u001b[0m\u001b[0mambiguous\u001b[0m\u001b[0;34m,\u001b[0m\u001b[0;34m\u001b[0m\u001b[0;34m\u001b[0m\u001b[0m\n\u001b[0;32m--> 303\u001b[0;31m             int_as_wall_time=True)\n\u001b[0m\u001b[1;32m    304\u001b[0m \u001b[0;34m\u001b[0m\u001b[0m\n\u001b[1;32m    305\u001b[0m         subarr = cls._simple_new(dtarr, name=name,\n",
      "\u001b[0;32m/Library/Frameworks/Python.framework/Versions/3.6/lib/python3.6/site-packages/pandas/core/arrays/datetimes.py\u001b[0m in \u001b[0;36m_from_sequence\u001b[0;34m(cls, data, dtype, copy, tz, freq, dayfirst, yearfirst, ambiguous, int_as_wall_time)\u001b[0m\n\u001b[1;32m    374\u001b[0m             \u001b[0mdata\u001b[0m\u001b[0;34m,\u001b[0m \u001b[0mdtype\u001b[0m\u001b[0;34m=\u001b[0m\u001b[0mdtype\u001b[0m\u001b[0;34m,\u001b[0m \u001b[0mcopy\u001b[0m\u001b[0;34m=\u001b[0m\u001b[0mcopy\u001b[0m\u001b[0;34m,\u001b[0m \u001b[0mtz\u001b[0m\u001b[0;34m=\u001b[0m\u001b[0mtz\u001b[0m\u001b[0;34m,\u001b[0m\u001b[0;34m\u001b[0m\u001b[0;34m\u001b[0m\u001b[0m\n\u001b[1;32m    375\u001b[0m             \u001b[0mdayfirst\u001b[0m\u001b[0;34m=\u001b[0m\u001b[0mdayfirst\u001b[0m\u001b[0;34m,\u001b[0m \u001b[0myearfirst\u001b[0m\u001b[0;34m=\u001b[0m\u001b[0myearfirst\u001b[0m\u001b[0;34m,\u001b[0m\u001b[0;34m\u001b[0m\u001b[0;34m\u001b[0m\u001b[0m\n\u001b[0;32m--> 376\u001b[0;31m             ambiguous=ambiguous, int_as_wall_time=int_as_wall_time)\n\u001b[0m\u001b[1;32m    377\u001b[0m \u001b[0;34m\u001b[0m\u001b[0m\n\u001b[1;32m    378\u001b[0m         freq, freq_infer = dtl.validate_inferred_freq(freq, inferred_freq,\n",
      "\u001b[0;32m/Library/Frameworks/Python.framework/Versions/3.6/lib/python3.6/site-packages/pandas/core/arrays/datetimes.py\u001b[0m in \u001b[0;36msequence_to_dt64ns\u001b[0;34m(data, dtype, copy, tz, dayfirst, yearfirst, ambiguous, int_as_wall_time)\u001b[0m\n\u001b[1;32m   1755\u001b[0m             \u001b[0;31m#  or M8[ns] to denote wall times\u001b[0m\u001b[0;34m\u001b[0m\u001b[0;34m\u001b[0m\u001b[0;34m\u001b[0m\u001b[0m\n\u001b[1;32m   1756\u001b[0m             data, inferred_tz = objects_to_datetime64ns(\n\u001b[0;32m-> 1757\u001b[0;31m                 data, dayfirst=dayfirst, yearfirst=yearfirst)\n\u001b[0m\u001b[1;32m   1758\u001b[0m             \u001b[0mtz\u001b[0m \u001b[0;34m=\u001b[0m \u001b[0mmaybe_infer_tz\u001b[0m\u001b[0;34m(\u001b[0m\u001b[0mtz\u001b[0m\u001b[0;34m,\u001b[0m \u001b[0minferred_tz\u001b[0m\u001b[0;34m)\u001b[0m\u001b[0;34m\u001b[0m\u001b[0;34m\u001b[0m\u001b[0m\n\u001b[1;32m   1759\u001b[0m             \u001b[0;31m# When a sequence of timestamp objects is passed, we always\u001b[0m\u001b[0;34m\u001b[0m\u001b[0;34m\u001b[0m\u001b[0;34m\u001b[0m\u001b[0m\n",
      "\u001b[0;32m/Library/Frameworks/Python.framework/Versions/3.6/lib/python3.6/site-packages/pandas/core/arrays/datetimes.py\u001b[0m in \u001b[0;36mobjects_to_datetime64ns\u001b[0;34m(data, dayfirst, yearfirst, utc, errors, require_iso8601, allow_object)\u001b[0m\n\u001b[1;32m   1864\u001b[0m             \u001b[0;32mreturn\u001b[0m \u001b[0mvalues\u001b[0m\u001b[0;34m.\u001b[0m\u001b[0mview\u001b[0m\u001b[0;34m(\u001b[0m\u001b[0;34m'i8'\u001b[0m\u001b[0;34m)\u001b[0m\u001b[0;34m,\u001b[0m \u001b[0mtz_parsed\u001b[0m\u001b[0;34m\u001b[0m\u001b[0;34m\u001b[0m\u001b[0m\n\u001b[1;32m   1865\u001b[0m         \u001b[0;32mexcept\u001b[0m \u001b[0;34m(\u001b[0m\u001b[0mValueError\u001b[0m\u001b[0;34m,\u001b[0m \u001b[0mTypeError\u001b[0m\u001b[0;34m)\u001b[0m\u001b[0;34m:\u001b[0m\u001b[0;34m\u001b[0m\u001b[0;34m\u001b[0m\u001b[0m\n\u001b[0;32m-> 1866\u001b[0;31m             \u001b[0;32mraise\u001b[0m \u001b[0me\u001b[0m\u001b[0;34m\u001b[0m\u001b[0;34m\u001b[0m\u001b[0m\n\u001b[0m\u001b[1;32m   1867\u001b[0m \u001b[0;34m\u001b[0m\u001b[0m\n\u001b[1;32m   1868\u001b[0m     \u001b[0;32mif\u001b[0m \u001b[0mtz_parsed\u001b[0m \u001b[0;32mis\u001b[0m \u001b[0;32mnot\u001b[0m \u001b[0;32mNone\u001b[0m\u001b[0;34m:\u001b[0m\u001b[0;34m\u001b[0m\u001b[0;34m\u001b[0m\u001b[0m\n",
      "\u001b[0;32m/Library/Frameworks/Python.framework/Versions/3.6/lib/python3.6/site-packages/pandas/core/arrays/datetimes.py\u001b[0m in \u001b[0;36mobjects_to_datetime64ns\u001b[0;34m(data, dayfirst, yearfirst, utc, errors, require_iso8601, allow_object)\u001b[0m\n\u001b[1;32m   1855\u001b[0m             \u001b[0mdayfirst\u001b[0m\u001b[0;34m=\u001b[0m\u001b[0mdayfirst\u001b[0m\u001b[0;34m,\u001b[0m\u001b[0;34m\u001b[0m\u001b[0;34m\u001b[0m\u001b[0m\n\u001b[1;32m   1856\u001b[0m             \u001b[0myearfirst\u001b[0m\u001b[0;34m=\u001b[0m\u001b[0myearfirst\u001b[0m\u001b[0;34m,\u001b[0m\u001b[0;34m\u001b[0m\u001b[0;34m\u001b[0m\u001b[0m\n\u001b[0;32m-> 1857\u001b[0;31m             \u001b[0mrequire_iso8601\u001b[0m\u001b[0;34m=\u001b[0m\u001b[0mrequire_iso8601\u001b[0m\u001b[0;34m\u001b[0m\u001b[0;34m\u001b[0m\u001b[0m\n\u001b[0m\u001b[1;32m   1858\u001b[0m         )\n\u001b[1;32m   1859\u001b[0m     \u001b[0;32mexcept\u001b[0m \u001b[0mValueError\u001b[0m \u001b[0;32mas\u001b[0m \u001b[0me\u001b[0m\u001b[0;34m:\u001b[0m\u001b[0;34m\u001b[0m\u001b[0;34m\u001b[0m\u001b[0m\n",
      "\u001b[0;32mpandas/_libs/tslib.pyx\u001b[0m in \u001b[0;36mpandas._libs.tslib.array_to_datetime\u001b[0;34m()\u001b[0m\n",
      "\u001b[0;32mpandas/_libs/tslib.pyx\u001b[0m in \u001b[0;36mpandas._libs.tslib.array_to_datetime\u001b[0;34m()\u001b[0m\n",
      "\u001b[0;32mpandas/_libs/tslib.pyx\u001b[0m in \u001b[0;36mpandas._libs.tslib.array_to_datetime_object\u001b[0;34m()\u001b[0m\n",
      "\u001b[0;32mpandas/_libs/tslib.pyx\u001b[0m in \u001b[0;36mpandas._libs.tslib.array_to_datetime_object\u001b[0;34m()\u001b[0m\n",
      "\u001b[0;32mpandas/_libs/tslibs/parsing.pyx\u001b[0m in \u001b[0;36mpandas._libs.tslibs.parsing.parse_datetime_string\u001b[0;34m()\u001b[0m\n",
      "\u001b[0;32m/Library/Frameworks/Python.framework/Versions/3.6/lib/python3.6/site-packages/dateutil/parser/_parser.py\u001b[0m in \u001b[0;36mparse\u001b[0;34m(timestr, parserinfo, **kwargs)\u001b[0m\n\u001b[1;32m   1356\u001b[0m         \u001b[0;32mreturn\u001b[0m \u001b[0mparser\u001b[0m\u001b[0;34m(\u001b[0m\u001b[0mparserinfo\u001b[0m\u001b[0;34m)\u001b[0m\u001b[0;34m.\u001b[0m\u001b[0mparse\u001b[0m\u001b[0;34m(\u001b[0m\u001b[0mtimestr\u001b[0m\u001b[0;34m,\u001b[0m \u001b[0;34m**\u001b[0m\u001b[0mkwargs\u001b[0m\u001b[0;34m)\u001b[0m\u001b[0;34m\u001b[0m\u001b[0;34m\u001b[0m\u001b[0m\n\u001b[1;32m   1357\u001b[0m     \u001b[0;32melse\u001b[0m\u001b[0;34m:\u001b[0m\u001b[0;34m\u001b[0m\u001b[0;34m\u001b[0m\u001b[0m\n\u001b[0;32m-> 1358\u001b[0;31m         \u001b[0;32mreturn\u001b[0m \u001b[0mDEFAULTPARSER\u001b[0m\u001b[0;34m.\u001b[0m\u001b[0mparse\u001b[0m\u001b[0;34m(\u001b[0m\u001b[0mtimestr\u001b[0m\u001b[0;34m,\u001b[0m \u001b[0;34m**\u001b[0m\u001b[0mkwargs\u001b[0m\u001b[0;34m)\u001b[0m\u001b[0;34m\u001b[0m\u001b[0;34m\u001b[0m\u001b[0m\n\u001b[0m\u001b[1;32m   1359\u001b[0m \u001b[0;34m\u001b[0m\u001b[0m\n\u001b[1;32m   1360\u001b[0m \u001b[0;34m\u001b[0m\u001b[0m\n",
      "\u001b[0;32m/Library/Frameworks/Python.framework/Versions/3.6/lib/python3.6/site-packages/dateutil/parser/_parser.py\u001b[0m in \u001b[0;36mparse\u001b[0;34m(self, timestr, default, ignoretz, tzinfos, **kwargs)\u001b[0m\n\u001b[1;32m    652\u001b[0m             \u001b[0;32mraise\u001b[0m \u001b[0mValueError\u001b[0m\u001b[0;34m(\u001b[0m\u001b[0;34m\"String does not contain a date:\"\u001b[0m\u001b[0;34m,\u001b[0m \u001b[0mtimestr\u001b[0m\u001b[0;34m)\u001b[0m\u001b[0;34m\u001b[0m\u001b[0;34m\u001b[0m\u001b[0m\n\u001b[1;32m    653\u001b[0m \u001b[0;34m\u001b[0m\u001b[0m\n\u001b[0;32m--> 654\u001b[0;31m         \u001b[0mret\u001b[0m \u001b[0;34m=\u001b[0m \u001b[0mself\u001b[0m\u001b[0;34m.\u001b[0m\u001b[0m_build_naive\u001b[0m\u001b[0;34m(\u001b[0m\u001b[0mres\u001b[0m\u001b[0;34m,\u001b[0m \u001b[0mdefault\u001b[0m\u001b[0;34m)\u001b[0m\u001b[0;34m\u001b[0m\u001b[0;34m\u001b[0m\u001b[0m\n\u001b[0m\u001b[1;32m    655\u001b[0m \u001b[0;34m\u001b[0m\u001b[0m\n\u001b[1;32m    656\u001b[0m         \u001b[0;32mif\u001b[0m \u001b[0;32mnot\u001b[0m \u001b[0mignoretz\u001b[0m\u001b[0;34m:\u001b[0m\u001b[0;34m\u001b[0m\u001b[0;34m\u001b[0m\u001b[0m\n",
      "\u001b[0;32m/Library/Frameworks/Python.framework/Versions/3.6/lib/python3.6/site-packages/dateutil/parser/_parser.py\u001b[0m in \u001b[0;36m_build_naive\u001b[0;34m(self, res, default)\u001b[0m\n\u001b[1;32m   1224\u001b[0m             \u001b[0mcday\u001b[0m \u001b[0;34m=\u001b[0m \u001b[0mdefault\u001b[0m\u001b[0;34m.\u001b[0m\u001b[0mday\u001b[0m \u001b[0;32mif\u001b[0m \u001b[0mres\u001b[0m\u001b[0;34m.\u001b[0m\u001b[0mday\u001b[0m \u001b[0;32mis\u001b[0m \u001b[0;32mNone\u001b[0m \u001b[0;32melse\u001b[0m \u001b[0mres\u001b[0m\u001b[0;34m.\u001b[0m\u001b[0mday\u001b[0m\u001b[0;34m\u001b[0m\u001b[0;34m\u001b[0m\u001b[0m\n\u001b[1;32m   1225\u001b[0m \u001b[0;34m\u001b[0m\u001b[0m\n\u001b[0;32m-> 1226\u001b[0;31m             \u001b[0;32mif\u001b[0m \u001b[0mcday\u001b[0m \u001b[0;34m>\u001b[0m \u001b[0mmonthrange\u001b[0m\u001b[0;34m(\u001b[0m\u001b[0mcyear\u001b[0m\u001b[0;34m,\u001b[0m \u001b[0mcmonth\u001b[0m\u001b[0;34m)\u001b[0m\u001b[0;34m[\u001b[0m\u001b[0;36m1\u001b[0m\u001b[0;34m]\u001b[0m\u001b[0;34m:\u001b[0m\u001b[0;34m\u001b[0m\u001b[0;34m\u001b[0m\u001b[0m\n\u001b[0m\u001b[1;32m   1227\u001b[0m                 \u001b[0mrepl\u001b[0m\u001b[0;34m[\u001b[0m\u001b[0;34m'day'\u001b[0m\u001b[0;34m]\u001b[0m \u001b[0;34m=\u001b[0m \u001b[0mmonthrange\u001b[0m\u001b[0;34m(\u001b[0m\u001b[0mcyear\u001b[0m\u001b[0;34m,\u001b[0m \u001b[0mcmonth\u001b[0m\u001b[0;34m)\u001b[0m\u001b[0;34m[\u001b[0m\u001b[0;36m1\u001b[0m\u001b[0;34m]\u001b[0m\u001b[0;34m\u001b[0m\u001b[0;34m\u001b[0m\u001b[0m\n\u001b[1;32m   1228\u001b[0m \u001b[0;34m\u001b[0m\u001b[0m\n",
      "\u001b[0;32m/Library/Frameworks/Python.framework/Versions/3.6/lib/python3.6/calendar.py\u001b[0m in \u001b[0;36mmonthrange\u001b[0;34m(year, month)\u001b[0m\n\u001b[1;32m    122\u001b[0m     \u001b[0;32mif\u001b[0m \u001b[0;32mnot\u001b[0m \u001b[0;36m1\u001b[0m \u001b[0;34m<=\u001b[0m \u001b[0mmonth\u001b[0m \u001b[0;34m<=\u001b[0m \u001b[0;36m12\u001b[0m\u001b[0;34m:\u001b[0m\u001b[0;34m\u001b[0m\u001b[0;34m\u001b[0m\u001b[0m\n\u001b[1;32m    123\u001b[0m         \u001b[0;32mraise\u001b[0m \u001b[0mIllegalMonthError\u001b[0m\u001b[0;34m(\u001b[0m\u001b[0mmonth\u001b[0m\u001b[0;34m)\u001b[0m\u001b[0;34m\u001b[0m\u001b[0;34m\u001b[0m\u001b[0m\n\u001b[0;32m--> 124\u001b[0;31m     \u001b[0mday1\u001b[0m \u001b[0;34m=\u001b[0m \u001b[0mweekday\u001b[0m\u001b[0;34m(\u001b[0m\u001b[0myear\u001b[0m\u001b[0;34m,\u001b[0m \u001b[0mmonth\u001b[0m\u001b[0;34m,\u001b[0m \u001b[0;36m1\u001b[0m\u001b[0;34m)\u001b[0m\u001b[0;34m\u001b[0m\u001b[0;34m\u001b[0m\u001b[0m\n\u001b[0m\u001b[1;32m    125\u001b[0m     \u001b[0mndays\u001b[0m \u001b[0;34m=\u001b[0m \u001b[0mmdays\u001b[0m\u001b[0;34m[\u001b[0m\u001b[0mmonth\u001b[0m\u001b[0;34m]\u001b[0m \u001b[0;34m+\u001b[0m \u001b[0;34m(\u001b[0m\u001b[0mmonth\u001b[0m \u001b[0;34m==\u001b[0m \u001b[0mFebruary\u001b[0m \u001b[0;32mand\u001b[0m \u001b[0misleap\u001b[0m\u001b[0;34m(\u001b[0m\u001b[0myear\u001b[0m\u001b[0;34m)\u001b[0m\u001b[0;34m)\u001b[0m\u001b[0;34m\u001b[0m\u001b[0;34m\u001b[0m\u001b[0m\n\u001b[1;32m    126\u001b[0m     \u001b[0;32mreturn\u001b[0m \u001b[0mday1\u001b[0m\u001b[0;34m,\u001b[0m \u001b[0mndays\u001b[0m\u001b[0;34m\u001b[0m\u001b[0;34m\u001b[0m\u001b[0m\n",
      "\u001b[0;32m/Library/Frameworks/Python.framework/Versions/3.6/lib/python3.6/calendar.py\u001b[0m in \u001b[0;36mweekday\u001b[0;34m(year, month, day)\u001b[0m\n\u001b[1;32m    114\u001b[0m     \"\"\"Return weekday (0-6 ~ Mon-Sun) for year (1970-...), month (1-12),\n\u001b[1;32m    115\u001b[0m        day (1-31).\"\"\"\n\u001b[0;32m--> 116\u001b[0;31m     \u001b[0;32mreturn\u001b[0m \u001b[0mdatetime\u001b[0m\u001b[0;34m.\u001b[0m\u001b[0mdate\u001b[0m\u001b[0;34m(\u001b[0m\u001b[0myear\u001b[0m\u001b[0;34m,\u001b[0m \u001b[0mmonth\u001b[0m\u001b[0;34m,\u001b[0m \u001b[0mday\u001b[0m\u001b[0;34m)\u001b[0m\u001b[0;34m.\u001b[0m\u001b[0mweekday\u001b[0m\u001b[0;34m(\u001b[0m\u001b[0;34m)\u001b[0m\u001b[0;34m\u001b[0m\u001b[0;34m\u001b[0m\u001b[0m\n\u001b[0m\u001b[1;32m    117\u001b[0m \u001b[0;34m\u001b[0m\u001b[0m\n\u001b[1;32m    118\u001b[0m \u001b[0;34m\u001b[0m\u001b[0m\n",
      "\u001b[0;31mValueError\u001b[0m: year 4042010 is out of range"
     ]
    }
   ],
   "source": [
    "df_test = df10['date'].astype(str) + df10['year'].astype(str)\n",
    "#x = datetime.strptime(df_test,'%s')\n",
    "#x\n",
    "\n",
    "y = pd.DatetimeIndex(df_test.values)\n",
    "y\n",
    "\n",
    "'''\n",
    "df_test = pd.to_numeric(df_test)\n",
    "df_test\n",
    "'''\n"
   ]
  },
  {
   "cell_type": "code",
   "execution_count": 14,
   "metadata": {},
   "outputs": [
    {
     "data": {
      "text/html": [
       "<div>\n",
       "<style scoped>\n",
       "    .dataframe tbody tr th:only-of-type {\n",
       "        vertical-align: middle;\n",
       "    }\n",
       "\n",
       "    .dataframe tbody tr th {\n",
       "        vertical-align: top;\n",
       "    }\n",
       "\n",
       "    .dataframe thead th {\n",
       "        text-align: right;\n",
       "    }\n",
       "</style>\n",
       "<table border=\"1\" class=\"dataframe\">\n",
       "  <thead>\n",
       "    <tr style=\"text-align: right;\">\n",
       "      <th></th>\n",
       "      <th>date</th>\n",
       "      <th>rot</th>\n",
       "      <th>visitor_home</th>\n",
       "      <th>team</th>\n",
       "      <th>pitcher</th>\n",
       "      <th>1st</th>\n",
       "      <th>2nd</th>\n",
       "      <th>3rd</th>\n",
       "      <th>4th</th>\n",
       "      <th>5th</th>\n",
       "      <th>...</th>\n",
       "      <th>rl</th>\n",
       "      <th>over_under_line_open</th>\n",
       "      <th>over_under_odds_open</th>\n",
       "      <th>over_under_line_close</th>\n",
       "      <th>over_under_odds_close</th>\n",
       "      <th>year</th>\n",
       "      <th>run_line_close</th>\n",
       "      <th>run_line_odds_close</th>\n",
       "      <th>total_runs_game</th>\n",
       "      <th>run_dif_game</th>\n",
       "    </tr>\n",
       "  </thead>\n",
       "  <tbody>\n",
       "    <tr>\n",
       "      <th>0</th>\n",
       "      <td>2019-03-20</td>\n",
       "      <td>901</td>\n",
       "      <td>N</td>\n",
       "      <td>SEA</td>\n",
       "      <td>MGONZALES-L</td>\n",
       "      <td>0</td>\n",
       "      <td>0</td>\n",
       "      <td>5</td>\n",
       "      <td>1</td>\n",
       "      <td>3</td>\n",
       "      <td>...</td>\n",
       "      <td>+1.5(-160)</td>\n",
       "      <td>8.5</td>\n",
       "      <td>-110</td>\n",
       "      <td>8.5</td>\n",
       "      <td>-120</td>\n",
       "      <td>2019</td>\n",
       "      <td>1.5</td>\n",
       "      <td>-160</td>\n",
       "      <td>16</td>\n",
       "      <td>2</td>\n",
       "    </tr>\n",
       "    <tr>\n",
       "      <th>1</th>\n",
       "      <td>2019-03-20</td>\n",
       "      <td>902</td>\n",
       "      <td>N</td>\n",
       "      <td>OAK</td>\n",
       "      <td>MFIERS-R</td>\n",
       "      <td>1</td>\n",
       "      <td>1</td>\n",
       "      <td>2</td>\n",
       "      <td>0</td>\n",
       "      <td>0</td>\n",
       "      <td>...</td>\n",
       "      <td>-1.5(+140)</td>\n",
       "      <td>8.5</td>\n",
       "      <td>-110</td>\n",
       "      <td>8.5</td>\n",
       "      <td>100</td>\n",
       "      <td>2019</td>\n",
       "      <td>-1.5</td>\n",
       "      <td>140</td>\n",
       "      <td>16</td>\n",
       "      <td>-2</td>\n",
       "    </tr>\n",
       "    <tr>\n",
       "      <th>2</th>\n",
       "      <td>2019-03-21</td>\n",
       "      <td>903</td>\n",
       "      <td>N</td>\n",
       "      <td>SEA</td>\n",
       "      <td>YKIKUCHI-L</td>\n",
       "      <td>0</td>\n",
       "      <td>2</td>\n",
       "      <td>1</td>\n",
       "      <td>0</td>\n",
       "      <td>0</td>\n",
       "      <td>...</td>\n",
       "      <td>+1.5(-262)</td>\n",
       "      <td>9.0</td>\n",
       "      <td>-110</td>\n",
       "      <td>9.0</td>\n",
       "      <td>-130</td>\n",
       "      <td>2019</td>\n",
       "      <td>1.5</td>\n",
       "      <td>-262</td>\n",
       "      <td>9</td>\n",
       "      <td>1</td>\n",
       "    </tr>\n",
       "    <tr>\n",
       "      <th>3</th>\n",
       "      <td>2019-03-21</td>\n",
       "      <td>904</td>\n",
       "      <td>N</td>\n",
       "      <td>OAK</td>\n",
       "      <td>MESTRADA-R</td>\n",
       "      <td>0</td>\n",
       "      <td>0</td>\n",
       "      <td>0</td>\n",
       "      <td>0</td>\n",
       "      <td>2</td>\n",
       "      <td>...</td>\n",
       "      <td>-1.5(+216)</td>\n",
       "      <td>9.0</td>\n",
       "      <td>-110</td>\n",
       "      <td>9.0</td>\n",
       "      <td>110</td>\n",
       "      <td>2019</td>\n",
       "      <td>-1.5</td>\n",
       "      <td>216</td>\n",
       "      <td>9</td>\n",
       "      <td>-1</td>\n",
       "    </tr>\n",
       "    <tr>\n",
       "      <th>4</th>\n",
       "      <td>2019-03-28</td>\n",
       "      <td>905</td>\n",
       "      <td>V</td>\n",
       "      <td>NYM</td>\n",
       "      <td>JDEGROM-R</td>\n",
       "      <td>1</td>\n",
       "      <td>0</td>\n",
       "      <td>0</td>\n",
       "      <td>0</td>\n",
       "      <td>0</td>\n",
       "      <td>...</td>\n",
       "      <td>+1.5(-215)</td>\n",
       "      <td>6.5</td>\n",
       "      <td>-110</td>\n",
       "      <td>6.5</td>\n",
       "      <td>-105</td>\n",
       "      <td>2019</td>\n",
       "      <td>1.5</td>\n",
       "      <td>-215</td>\n",
       "      <td>2</td>\n",
       "      <td>2</td>\n",
       "    </tr>\n",
       "  </tbody>\n",
       "</table>\n",
       "<p>5 rows × 27 columns</p>\n",
       "</div>"
      ],
      "text/plain": [
       "        date  rot visitor_home team      pitcher  1st  2nd  3rd  4th  5th  \\\n",
       "0 2019-03-20  901            N  SEA  MGONZALES-L    0    0    5    1    3   \n",
       "1 2019-03-20  902            N  OAK     MFIERS-R    1    1    2    0    0   \n",
       "2 2019-03-21  903            N  SEA   YKIKUCHI-L    0    2    1    0    0   \n",
       "3 2019-03-21  904            N  OAK   MESTRADA-R    0    0    0    0    2   \n",
       "4 2019-03-28  905            V  NYM    JDEGROM-R    1    0    0    0    0   \n",
       "\n",
       "   ...          rl  over_under_line_open  over_under_odds_open  \\\n",
       "0  ...  +1.5(-160)                   8.5                  -110   \n",
       "1  ...  -1.5(+140)                   8.5                  -110   \n",
       "2  ...  +1.5(-262)                   9.0                  -110   \n",
       "3  ...  -1.5(+216)                   9.0                  -110   \n",
       "4  ...  +1.5(-215)                   6.5                  -110   \n",
       "\n",
       "  over_under_line_close  over_under_odds_close  year  run_line_close  \\\n",
       "0                   8.5                   -120  2019             1.5   \n",
       "1                   8.5                    100  2019            -1.5   \n",
       "2                   9.0                   -130  2019             1.5   \n",
       "3                   9.0                    110  2019            -1.5   \n",
       "4                   6.5                   -105  2019             1.5   \n",
       "\n",
       "  run_line_odds_close  total_runs_game  run_dif_game  \n",
       "0                -160               16             2  \n",
       "1                 140               16            -2  \n",
       "2                -262                9             1  \n",
       "3                 216                9            -1  \n",
       "4                -215                2             2  \n",
       "\n",
       "[5 rows x 27 columns]"
      ]
     },
     "execution_count": 14,
     "metadata": {},
     "output_type": "execute_result"
    }
   ],
   "source": [
    "df.head()"
   ]
  },
  {
   "cell_type": "code",
   "execution_count": 13,
   "metadata": {},
   "outputs": [],
   "source": [
    "# convert date format\n",
    "for df in dfList:\n",
<<<<<<< HEAD
    "    df['date'] = df['date'].astype(str) + df['year'].astype(str)\n",
    "    pd.to_numeric(df['date'])\n",
    "    df['date'] = pd.to_datetime(df['date'],utc=True,format='%m%d%Y')\n",
    "    \n",
    "#    df['date'] = datetime.timestamp(df['date'])"
=======
    "    df['date'] = df['year'].astype(str) + '-' + df['date'].astype(str).apply(lambda x: '0' + x if len(x) == 3 else x)\n",
    "    df['date'] = df['date'].apply(lambda x: x[:7] + '-' + x[7:])\n",
    "    \n",
    "    \n",
    "#     df['date'] = df['date'].astype(str) + df['year'].astype(str)\n",
    "#     pd.to_numeric(df['date'])\n",
    "#     df['date'] = pd.to_datetime(df['date'], errors='ignore', format=\"%m%d%Y\")"
>>>>>>> d121c76f95d8c76ba8459eef70820cb82fac31d3
   ]
  },
  {
   "cell_type": "code",
   "execution_count": 17,
   "metadata": {},
   "outputs": [
    {
     "data": {
      "text/plain": [
       "\"\\ndf_new = pd.to_numeric(df_whatev['date'])\\ndf_newer = pd.to_datetime(df_new['date'],utc=True,format='%m%d%Y')\\ndf_newer\\n\""
      ]
     },
     "execution_count": 17,
     "metadata": {},
     "output_type": "execute_result"
    }
   ],
   "source": [
    "df_whatev = df10['date'].astype(str) + df10['year'].astype(str)\n",
    "df_whatev\n",
    "df_new = pd.to_numeric(df_whatev['date'])\n",
    "df_newer = pd.to_datetime(df_new['date'],utc=True,format='%m%d%Y')\n",
    "df_newer\n"
   ]
  },
  {
   "cell_type": "code",
   "execution_count": null,
   "metadata": {},
   "outputs": [],
   "source": [
    "df1 = pd.concat(dfList, sort=True)"
   ]
  },
  {
   "cell_type": "code",
   "execution_count": null,
   "metadata": {},
   "outputs": [],
   "source": [
    "df1.drop(['year', 'rl', '1st', '2nd', '3rd', '4th', '5th', '6th', '7th', '8th', '9th'], axis=1, inplace=True)"
   ]
  },
  {
   "cell_type": "code",
   "execution_count": null,
   "metadata": {},
   "outputs": [],
   "source": [
    "df1 = df1[df1['visitor_home'] != 'N']"
   ]
  },
  {
   "cell_type": "code",
   "execution_count": null,
   "metadata": {},
   "outputs": [],
   "source": [
    "colNew = []\n",
    "i = 0\n",
    "for index, row in df1.iterrows():\n",
    "    if index == 0:\n",
    "        pass\n",
    "    elif index % 2 == 0:\n",
    "        i += 1\n",
    "    colNew.append(i)\n",
    "df1['gameno'] = colNew\n",
    "df1.replace('LOS','LAD',inplace=True)\n",
    "df1.replace('CUB','CHC',inplace=True)\n",
    "df1.replace('SDG','SD',inplace=True)\n",
    "df1.replace('SFO','SF',inplace=True)\n",
    "df1.replace('KAN','KC',inplace=True)\n",
    "df1.replace('TAM','TB',inplace=True)"
   ]
  },
  {
   "cell_type": "code",
   "execution_count": null,
   "metadata": {},
   "outputs": [],
   "source": [
    "df1 = df1.reindex(columns=['date', 'gameno', 'team', 'visitor_home', 'team_run_total', 'total_runs_game', 'money_line_close', 'money_line_open', 'over_under_line_close', 'over_under_line_open', 'over_under_odds_close', 'over_under_odds_open', 'pitcher', 'rot', 'run_dif_game', 'run_line_close', 'run_line_odds_close'])"
   ]
  },
  {
   "cell_type": "code",
   "execution_count": null,
   "metadata": {},
   "outputs": [],
   "source": [
    "df1 = df1[df1.over_under_line_close < 100]"
   ]
  },
  {
   "cell_type": "code",
   "execution_count": null,
   "metadata": {},
   "outputs": [],
   "source": [
    "df1 = df1[df1.over_under_line_close > 0]"
   ]
  },
  {
   "cell_type": "code",
   "execution_count": null,
   "metadata": {},
   "outputs": [],
   "source": [
    "df1['over_under_line_close'].unique()"
   ]
  },
  {
   "cell_type": "code",
   "execution_count": null,
   "metadata": {},
   "outputs": [],
   "source": [
    "# df1.set_index('date', inplace=True)"
   ]
  },
  {
   "cell_type": "code",
   "execution_count": null,
   "metadata": {},
   "outputs": [],
   "source": [
    "df1.replace(['NL', 'nan'], np.nan, inplace=True)"
   ]
  },
  {
   "cell_type": "code",
<<<<<<< HEAD
   "execution_count": null,
=======
   "execution_count": 24,
>>>>>>> d121c76f95d8c76ba8459eef70820cb82fac31d3
   "metadata": {},
   "outputs": [],
   "source": [
    "# csv_path = os.path.join(os.path.join(os.path.dirname(os.getcwd()), 'data', 'baseball.csv'))\n",
    "# df1.to_csv(csv_path)"
   ]
  },
  {
   "cell_type": "code",
<<<<<<< HEAD
   "execution_count": null,
=======
   "execution_count": 25,
>>>>>>> d121c76f95d8c76ba8459eef70820cb82fac31d3
   "metadata": {},
   "outputs": [],
   "source": [
    "# team_run_total, run_dif_game has NL, run_line_close & run_line_odds_close needs to change nan to 'NaN'"
   ]
  },
  {
   "cell_type": "code",
<<<<<<< HEAD
   "execution_count": null,
=======
   "execution_count": 26,
>>>>>>> d121c76f95d8c76ba8459eef70820cb82fac31d3
   "metadata": {},
   "outputs": [],
   "source": [
    "# DBFILENAME = os.path.join(os.path.abspath(\"\"), 'baseball.db')\n",
    "# with sqlite3.connect(DBFILENAME) as conn:\n",
    "#     df1.to_sql('games', con=conn, if_exists='replace', dtype={'date': 'DATETIME', '1st': 'INTEGER', '2nd': 'INTEGER', '3rd': \"INTEGER\", '4th':'INTEGER', '5th': 'INTEGER', '6th': 'INTEGER', '7th':'INTEGER', '8th': 'INTEGER', '9th': 'INTEGER', 'close': 'REAL', 'close_ou': 'REAL', 'closeouodds': 'REAL', 'final': 'REAL', 'gameno': 'REAL', 'open':\"REAL\", 'open_ou': 'REAL', 'openou':'REAL', 'openouodds': 'REAL', 'pitcher': 'TEXT', 'rot':'INTEGER', 'rundif': 'REAL', 'runline':'REAL', 'runlineodds': 'REAL', 'team': 'TEXT', 'totalruns': 'INTEGER', 'vh': 'TEXT', 'winrl':'BOOLEAN', 'wintotal': 'BOOLEAN'})"
   ]
  },
  {
   "cell_type": "code",
   "execution_count": 27,
   "metadata": {},
   "outputs": [],
   "source": [
    "pickle_path = os.path.join(os.path.join(os.path.dirname(os.getcwd()), 'data', 'baseball.pickle'))\n",
    "df1.to_pickle(pickle_path)"
   ]
  },
  {
   "cell_type": "code",
   "execution_count": 28,
   "metadata": {},
   "outputs": [],
   "source": [
    "df_new = pd.read_pickle(pickle_path)"
   ]
  },
  {
   "cell_type": "code",
   "execution_count": 30,
   "metadata": {},
   "outputs": [
    {
     "name": "stdout",
     "output_type": "stream",
     "text": [
      "<class 'pandas.core.frame.DataFrame'>\n",
      "Int64Index: 44638 entries, 0 to 285\n",
      "Data columns (total 17 columns):\n",
      "date                     44638 non-null object\n",
      "gameno                   44638 non-null int64\n",
      "team                     44638 non-null object\n",
      "visitor_home             44638 non-null object\n",
      "team_run_total           44636 non-null float64\n",
      "total_runs_game          44636 non-null float64\n",
      "money_line_close         44638 non-null float64\n",
      "money_line_open          44638 non-null int64\n",
      "over_under_line_close    44638 non-null float64\n",
      "over_under_line_open     44638 non-null float64\n",
      "over_under_odds_close    44638 non-null int64\n",
      "over_under_odds_open     44638 non-null int64\n",
      "pitcher                  44595 non-null object\n",
      "rot                      44638 non-null int64\n",
      "run_dif_game             44636 non-null float64\n",
      "run_line_close           24908 non-null float64\n",
      "run_line_odds_close      24908 non-null float64\n",
      "dtypes: float64(8), int64(5), object(4)\n",
      "memory usage: 6.1+ MB\n"
     ]
    }
   ],
   "source": [
    "df_new.info()"
   ]
  },
  {
   "cell_type": "code",
   "execution_count": null,
   "metadata": {},
   "outputs": [],
   "source": []
  }
 ],
 "metadata": {
  "kernelspec": {
   "display_name": "Python 3",
   "language": "python",
   "name": "python3"
  },
  "language_info": {
   "codemirror_mode": {
    "name": "ipython",
    "version": 3
   },
   "file_extension": ".py",
   "mimetype": "text/x-python",
   "name": "python",
   "nbconvert_exporter": "python",
   "pygments_lexer": "ipython3",
   "version": "3.7.3"
  }
 },
 "nbformat": 4,
 "nbformat_minor": 2
}
