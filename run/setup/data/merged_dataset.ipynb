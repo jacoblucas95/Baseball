{
 "cells": [
  {
   "cell_type": "code",
   "execution_count": 1,
   "metadata": {},
   "outputs": [],
   "source": [
    "import pandas as pd\n",
    "import numpy as np\n",
    "import xlrd\n",
    "import os"
   ]
  },
  {
   "cell_type": "code",
   "execution_count": 2,
   "metadata": {},
   "outputs": [],
   "source": [
    "# Import Raw Data from excel files into dataFrames\n",
    "df10=pd.read_excel('orig_data/mlb_odds_2010.xlsx')\n",
    "df10['Year'] = 2010\n",
    "df11=pd.read_excel('orig_data/mlb_odds_2011.xlsx')\n",
    "df11['Year'] = 2011\n",
    "df12=pd.read_excel('orig_data/mlb_odds_2012.xlsx')\n",
    "df12['Year'] = 2012\n",
    "df13=pd.read_excel('orig_data/mlb_odds_2013.xlsx')\n",
    "df13['Year'] = 2013\n",
    "df14=pd.read_excel('orig_data/mlb_odds_2014.xlsx')\n",
    "df14['Year'] = 2014\n",
    "df15=pd.read_excel('orig_data/mlb_odds_2015.xlsx')\n",
    "df15['Year'] = 2015\n",
    "df16=pd.read_excel('orig_data/mlb_odds_2016.xlsx')\n",
    "df16['Year'] = 2016\n",
    "df17=pd.read_excel('orig_data/mlb_odds_2017.xlsx')\n",
    "df17['Year'] = 2017\n",
    "df18=pd.read_excel('orig_data/mlb_odds_2018.xlsx')\n",
    "df18['Year'] = 2018\n",
    "df19=pd.read_excel('orig_data/mlb_odds_2019.xlsx')\n",
    "df19['Year'] = 2019"
   ]
  },
  {
   "cell_type": "code",
   "execution_count": 3,
   "metadata": {},
   "outputs": [],
   "source": [
    "# make list of dataFrames\n",
    "dfList = [df10, df11, df12, df13, df14, df15, df16, df17, df18, df19]"
   ]
  },
  {
   "cell_type": "code",
   "execution_count": 4,
   "metadata": {},
   "outputs": [],
   "source": [
    "# reformat data\n",
    "for df in dfList:\n",
    "    try:\n",
    "        dfnew=df['RL'].str.split(pat=\"(\", n=1, expand=True)\n",
    "        dfnewer = dfnew[1].str.rstrip(\"\\)\")\n",
    "        df['run_line_close'] = dfnew[0].apply(float)\n",
    "        df['run_line_odds_close'] = dfnewer.apply(int)\n",
    "    except KeyError:\n",
    "        pass"
   ]
  },
  {
   "cell_type": "code",
   "execution_count": 5,
   "metadata": {},
   "outputs": [],
   "source": [
    "for df in dfList:\n",
    "    df.columns = df.columns.str.strip().str.lower().str.replace(' ', '_').str.replace('(', '').str.replace(')', '')\n",
    "    df.rename({\"vh\": \"visitor_home\", \"final\": \"team_run_total\", \"close\":\"money_line_close\", \"open\":\"money_line_open\", \"openou\":\"over_under_line_open\", \"open_ou\":\"over_under_line_open\", \"unnamed:_18\":\"over_under_odds_open\", \"unnamed:_19\":\"over_under_odds_open\", \"close_ou\":\"over_under_line_close\", \"closeou\":\"over_under_line_close\", \"unnamed:_20\":\"over_under_odds_close\", \"unnamed:_21\":\"over_under_odds_close\"}, axis='columns', inplace=True)    "
   ]
  },
  {
   "cell_type": "code",
   "execution_count": 6,
   "metadata": {},
   "outputs": [],
   "source": [
    "def convt(num):\n",
    "    if type(num) == str:\n",
    "        num = float(num[0]) + .5\n",
    "    return num\n",
    "for df in dfList:\n",
    "    df['over_under_line_close'] = df['over_under_line_close'].apply(convt)"
   ]
  },
  {
   "cell_type": "code",
   "execution_count": 7,
   "metadata": {},
   "outputs": [],
   "source": [
    "# create additional columns\n",
    "for df in dfList:\n",
    "    totRuns = []\n",
    "    counter = 0\n",
    "    try:\n",
    "        for index, row in df.iterrows():\n",
    "            if row.team_run_total == \"NL\":\n",
    "                totRuns.append(np.nan)\n",
    "            elif index % 2 == 0:\n",
    "                counter = 0\n",
    "                counter += row.team_run_total\n",
    "            else:\n",
    "                counter += row.team_run_total\n",
    "                totRuns.append(counter)\n",
    "                totRuns.append(counter)\n",
    "    except TypeError:\n",
    "        print(row)\n",
    "    df['total_runs_game'] = totRuns"
   ]
  },
  {
   "cell_type": "code",
   "execution_count": 8,
   "metadata": {},
   "outputs": [],
   "source": [
    "for df in dfList:\n",
    "    RunDif = []\n",
    "    counter = 0\n",
    "    try:\n",
    "        for index, row in df.iterrows():\n",
    "            if row.team_run_total == \"NL\":\n",
    "                RunDif.append(np.nan)\n",
    "            elif index % 2 == 0:\n",
    "                counter = 0\n",
    "                team1 = row.team_run_total\n",
    "            else:\n",
    "                team2 = row.team_run_total\n",
    "                dif = team1 - team2\n",
    "                RunDif.append(dif)\n",
    "                RunDif.append(-dif)\n",
    "    except TypeError:\n",
    "        print(row)\n",
    "    df['run_dif_game'] = RunDif"
   ]
  },
  {
   "cell_type": "code",
   "execution_count": 9,
   "metadata": {},
   "outputs": [],
   "source": [
    "for df in dfList:\n",
    "    df['date'] = df['year'].astype(str) + '-' + df['date'].astype(str).apply(lambda x: '0' + x if len(x) == 3 else x)\n",
    "    df['date'] = df['date'].apply(lambda x: x[:7] + '-' + x[7:])"
   ]
  },
  {
   "cell_type": "code",
   "execution_count": 10,
   "metadata": {},
   "outputs": [],
   "source": [
    "df1 = pd.concat(dfList, sort=True, ignore_index=True)"
   ]
  },
  {
   "cell_type": "code",
   "execution_count": 11,
   "metadata": {},
   "outputs": [],
   "source": [
    "df1.drop(['year', 'rl', '1st', '2nd', '3rd', '4th', '5th', '6th', '7th', '8th', '9th'], axis=1, inplace=True)"
   ]
  },
  {
   "cell_type": "code",
   "execution_count": 12,
   "metadata": {},
   "outputs": [],
   "source": [
    "df1 = df1[df1['visitor_home'] != 'N']"
   ]
  },
  {
   "cell_type": "code",
   "execution_count": 13,
   "metadata": {},
   "outputs": [],
   "source": [
    "colNew = []\n",
    "i = 0\n",
    "for index, row in df1.iterrows():\n",
    "    if index == 0:\n",
    "        pass\n",
    "    elif index % 2 == 0:\n",
    "        i += 1\n",
    "    colNew.append(i)\n",
    "df1['gameno'] = colNew\n",
    "df1.replace('LOS','LAD',inplace=True)\n",
    "df1.replace('CUB','CHC',inplace=True)\n",
    "df1.replace('SDG','SD',inplace=True)\n",
    "df1.replace('SFO','SF',inplace=True)\n",
    "df1.replace('KAN','KC',inplace=True)\n",
    "df1.replace('TAM','TB',inplace=True)"
   ]
  },
  {
   "cell_type": "code",
   "execution_count": 14,
   "metadata": {},
   "outputs": [],
   "source": [
    "df1 = df1.reindex(columns=['date', 'gameno', 'team', 'visitor_home', 'team_run_total', 'total_runs_game', 'money_line_close', 'money_line_open', 'over_under_line_close', 'over_under_line_open', 'over_under_odds_close', 'over_under_odds_open', 'pitcher', 'rot', 'run_dif_game', 'run_line_close', 'run_line_odds_close'])"
   ]
  },
  {
   "cell_type": "code",
   "execution_count": 15,
   "metadata": {},
   "outputs": [],
   "source": [
    "df1.replace(['NL', 'nan'], np.nan, inplace=True)"
   ]
  },
  {
   "cell_type": "code",
   "execution_count": 16,
   "metadata": {},
   "outputs": [],
   "source": [
    "#merge visitor and home rows together\n",
    "df_v = df1.loc[df1['visitor_home'] == 'V']\n",
    "df_h = df1.loc[df1['visitor_home'] == 'H']\n",
    "df_h.columns = ['h_date', 'gameno', 'h_team', 'home', 'h_team_run_total',\n",
    "                   'h_total_runs_game', 'h_money_line_close', 'h_money_line_open',\n",
    "                   'under_line_close', 'under_line_open',\n",
    "                   'under_odds_close', 'under_odds_open', 'h_pitcher', 'h_rot',\n",
    "                   'h_run_dif_game', 'h_run_line_close', 'h_run_line_odds_close']\n",
    "df_v.columns = ['date', 'gameno', 'v_team', 'visitor', 'v_team_run_total',\n",
    "                   'total_runs_game', 'v_money_line_close', 'v_money_line_open',\n",
    "                   'over_line_close', 'over_line_open',\n",
    "                   'over_odds_close', 'over_odds_open', 'v_pitcher', 'v_rot',\n",
    "                   'v_run_dif_game', 'v_run_line_close', 'v_run_line_odds_close']\n",
    "\n",
    "df3 = pd.merge(df_v, df_h, on='gameno', how='right')"
   ]
  },
  {
   "cell_type": "code",
   "execution_count": 17,
   "metadata": {},
   "outputs": [],
   "source": [
    "#drop unnecessary columns\n",
    "df3.drop(['h_total_runs_game','h_date'], axis=1, inplace=True)"
   ]
  },
  {
   "cell_type": "code",
   "execution_count": 18,
   "metadata": {},
   "outputs": [],
   "source": [
    "#reindex columns\n",
    "df_final = df3.reindex(columns = ['date', 'gameno', \n",
    "             \n",
    "             'visitor', 'v_team', 'v_team_run_total', \n",
    "             'v_money_line_close', 'v_money_line_open', \n",
    "             'v_run_line_close', 'v_run_line_odds_close', \n",
    "             'v_pitcher', 'v_rot', 'v_run_dif_game',\n",
    "             \n",
    "             'home', 'h_team', 'h_team_run_total', \n",
    "             'h_money_line_close', 'h_money_line_open', \n",
    "             'h_run_line_close', 'h_run_line_odds_close',\n",
    "             'h_pitcher', 'h_rot', 'h_run_dif_game',\n",
    "             \n",
    "             'total_runs_game', \n",
    "             'over_line_close', 'over_line_open', 'over_odds_close', 'over_odds_open', \n",
    "             'under_line_close', 'under_line_open', 'under_odds_close', 'under_odds_open' \n",
    "            ])"
   ]
  },
  {
   "cell_type": "code",
   "execution_count": null,
   "metadata": {},
   "outputs": [],
   "source": []
  },
  {
   "cell_type": "code",
   "execution_count": 20,
   "metadata": {},
   "outputs": [],
   "source": [
    "pickle_path = os.path.join(os.path.join(os.path.dirname(os.getcwd()), 'data', 'dataset.pickle'))\n",
    "df_final.to_pickle(pickle_path)"
   ]
  },
  {
   "cell_type": "code",
   "execution_count": 21,
   "metadata": {},
   "outputs": [
    {
     "name": "stdout",
     "output_type": "stream",
     "text": [
      "<class 'pandas.core.frame.DataFrame'>\n",
      "Int64Index: 22326 entries, 0 to 22325\n",
      "Data columns (total 31 columns):\n",
      "date                     22326 non-null object\n",
      "gameno                   22326 non-null int64\n",
      "visitor                  22326 non-null object\n",
      "v_team                   22326 non-null object\n",
      "v_team_run_total         22325 non-null float64\n",
      "v_money_line_close       22326 non-null float64\n",
      "v_money_line_open        22326 non-null int64\n",
      "v_run_line_close         12461 non-null float64\n",
      "v_run_line_odds_close    12461 non-null float64\n",
      "v_pitcher                22306 non-null object\n",
      "v_rot                    22326 non-null int64\n",
      "v_run_dif_game           22325 non-null float64\n",
      "home                     22326 non-null object\n",
      "h_team                   22326 non-null object\n",
      "h_team_run_total         22325 non-null float64\n",
      "h_money_line_close       22326 non-null float64\n",
      "h_money_line_open        22326 non-null int64\n",
      "h_run_line_close         12461 non-null float64\n",
      "h_run_line_odds_close    12461 non-null float64\n",
      "h_pitcher                22303 non-null object\n",
      "h_rot                    22326 non-null int64\n",
      "h_run_dif_game           22325 non-null float64\n",
      "total_runs_game          22325 non-null float64\n",
      "over_line_close          22326 non-null float64\n",
      "over_line_open           22326 non-null float64\n",
      "over_odds_close          22326 non-null int64\n",
      "over_odds_open           22326 non-null int64\n",
      "under_line_close         22326 non-null float64\n",
      "under_line_open          22326 non-null float64\n",
      "under_odds_close         22326 non-null int64\n",
      "under_odds_open          22326 non-null int64\n",
      "dtypes: float64(15), int64(9), object(7)\n",
      "memory usage: 5.5+ MB\n"
     ]
    }
   ],
   "source": [
    "df_final.info()"
   ]
  },
  {
   "cell_type": "code",
   "execution_count": 22,
   "metadata": {},
   "outputs": [],
   "source": [
    "x = df_final.shape"
   ]
  },
  {
   "cell_type": "code",
   "execution_count": 24,
   "metadata": {},
   "outputs": [
    {
     "data": {
      "text/plain": [
       "22326"
      ]
     },
     "execution_count": 24,
     "metadata": {},
     "output_type": "execute_result"
    }
   ],
   "source": [
    "x[0]"
   ]
  },
  {
   "cell_type": "code",
   "execution_count": null,
   "metadata": {},
   "outputs": [],
   "source": []
  }
 ],
 "metadata": {
  "kernelspec": {
   "display_name": "Python 3",
   "language": "python",
   "name": "python3"
  },
  "language_info": {
   "codemirror_mode": {
    "name": "ipython",
    "version": 3
   },
   "file_extension": ".py",
   "mimetype": "text/x-python",
   "name": "python",
   "nbconvert_exporter": "python",
   "pygments_lexer": "ipython3",
   "version": "3.6.8"
  }
 },
 "nbformat": 4,
 "nbformat_minor": 2
}
