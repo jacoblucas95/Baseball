{
 "cells": [
  {
   "cell_type": "code",
   "execution_count": 1,
   "metadata": {},
   "outputs": [],
   "source": [
    "import os, sys\n",
    "import numpy as np\n",
    "import pandas as pd\n",
    "import matplotlib.pyplot as plt"
   ]
  },
  {
   "cell_type": "code",
   "execution_count": 2,
   "metadata": {},
   "outputs": [],
   "source": [
    "pd.set_option('display.max_columns', 100)"
   ]
  },
  {
   "cell_type": "code",
   "execution_count": 3,
   "metadata": {},
   "outputs": [],
   "source": [
    "pickle_path = '/Users/jacoblucas/group_project/Baseball/run/setup/data/analysis_dataset.pickle'\n",
    "df = pd.read_pickle(pickle_path)"
   ]
  },
  {
   "cell_type": "code",
   "execution_count": 8,
   "metadata": {},
   "outputs": [],
   "source": [
    "win = 0\n",
    "win_index_ls = []\n",
    "loss = 0\n",
    "loss_index_ls = []\n",
    "push = 0\n",
    "push_index_ls = []\n",
    "for index, row in df.iterrows():\n",
    "    w_l = row['bet_outcomes']\n",
    "    if w_l > 0:\n",
    "        win += 1\n",
    "        win_index_ls.append(index)\n",
    "    elif w_l < 0:\n",
    "        loss += 1\n",
    "        loss_index_ls.append(index)\n",
    "    else:\n",
    "        push += 1\n",
    "        push_index_ls.append(index)\n",
    "\n",
    "win_df = df.iloc[win_index_ls, :]\n",
    "loss_df = df.iloc[loss_index_ls, :]\n",
    "push_df = df.iloc[push_index_ls, :]"
   ]
  },
  {
   "cell_type": "code",
   "execution_count": 20,
   "metadata": {},
   "outputs": [
    {
     "data": {
      "text/plain": [
       "(0.6944136529443147, 0.1563813580007421)"
      ]
     },
     "execution_count": 20,
     "metadata": {},
     "output_type": "execute_result"
    }
   ],
   "source": [
    "w_avg = win_df['bet_outcomes'].mean()\n",
    "w_std = win_df['bet_outcomes'].std()\n",
    "w_avg, w_std"
   ]
  },
  {
   "cell_type": "code",
   "execution_count": null,
   "metadata": {},
   "outputs": [],
   "source": []
  }
 ],
 "metadata": {
  "kernelspec": {
   "display_name": "Python 3",
   "language": "python",
   "name": "python3"
  },
  "language_info": {
   "codemirror_mode": {
    "name": "ipython",
    "version": 3
   },
   "file_extension": ".py",
   "mimetype": "text/x-python",
   "name": "python",
   "nbconvert_exporter": "python",
   "pygments_lexer": "ipython3",
   "version": "3.6.8"
  }
 },
 "nbformat": 4,
 "nbformat_minor": 2
}
