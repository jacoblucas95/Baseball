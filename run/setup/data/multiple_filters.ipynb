{
 "cells": [
  {
   "cell_type": "code",
   "execution_count": 1,
   "metadata": {},
   "outputs": [],
   "source": [
    "import pandas as pd\n",
    "import numpy as np\n",
    "from datetime import date"
   ]
  },
  {
   "cell_type": "code",
   "execution_count": 2,
   "metadata": {},
   "outputs": [],
   "source": [
    "df = pd.read_csv('baseball.csv', low_memory=False)"
   ]
  },
  {
   "cell_type": "code",
   "execution_count": 3,
   "metadata": {},
   "outputs": [],
   "source": [
    "def date_range(df=df, start_date=date(2018,1,1), end_date=date(2019,12,31)):\n",
    "    df['date'] = pd.to_datetime(df['date'])\n",
    "    df2 = df[df['date'].isin(pd.date_range(start_date,end_date))]\n",
    "    return df2"
   ]
  },
  {
   "cell_type": "code",
   "execution_count": 4,
   "metadata": {},
   "outputs": [],
   "source": [
    "def home_away(h_a,df=df):\n",
    "    df2 = df.loc[(df['visitor_home'] == h_a)]\n",
    "    return df2"
   ]
  },
  {
   "cell_type": "code",
   "execution_count": 5,
   "metadata": {},
   "outputs": [],
   "source": [
    "def fav_dog(f_d, df=df):\n",
    "    if f_d == 'f':\n",
    "        return df.loc[df['money_line_close'] < 0]\n",
    "    else:\n",
    "        return df.loc[df['money_line_close'] > 0]"
   ]
  },
  {
   "cell_type": "code",
   "execution_count": 6,
   "metadata": {},
   "outputs": [],
   "source": [
    "class Filter:\n",
    "    \n",
    "    def __init__(self, start_date, end_date, visitor_home, favorite_underdog):\n",
    "        self.start_date = start_date\n",
    "        self.end_date = end_date\n",
    "        self.visitor_home = visitor_home\n",
    "        self.favorite_underdog = favorite_underdog\n",
    "        self.df = df\n",
    "\n",
    "    def get_df(self):\n",
    "        self.df['date'] = pd.to_datetime(self.df['date'])\n",
    "        df2 = self.df[self.df['date'].isin(pd.date_range(self.start_date, self.end_date))]\n",
    "        if self.favorite_underdog == 'fav':\n",
    "            df2 = df2.loc[(df2['visitor_home'] == self.visitor_home) & (df2['money_line_close'] < 0)]\n",
    "        else:\n",
    "            df2 = df2.loc[(df2['visitor_home'] == self.visitor_home) & (df2['money_line_close'] > 0)]\n",
    "        return df2"
   ]
  },
  {
   "cell_type": "code",
   "execution_count": 7,
   "metadata": {},
   "outputs": [],
   "source": [
    "f = Filter(date(2018, 1, 1), date.today(), 'H', 'fav')\n",
    "df2 = f.get_df()"
   ]
  },
  {
   "cell_type": "code",
   "execution_count": 9,
   "metadata": {},
   "outputs": [],
   "source": [
    "game_list = df2['gameno'].tolist()"
   ]
  },
  {
   "cell_type": "code",
   "execution_count": 10,
   "metadata": {},
   "outputs": [],
   "source": [
    "y = df2['gameno'].sum()"
   ]
  },
  {
   "cell_type": "code",
   "execution_count": 11,
   "metadata": {},
   "outputs": [],
   "source": [
    "df_new = df[df['gameno'].isin(game_list)]"
   ]
  },
  {
   "cell_type": "code",
   "execution_count": 12,
   "metadata": {},
   "outputs": [
    {
     "data": {
      "text/plain": [
       "73413418"
      ]
     },
     "execution_count": 12,
     "metadata": {},
     "output_type": "execute_result"
    }
   ],
   "source": [
    "game_list2 = df_new['gameno'].tolist()\n",
    "sum(game_list2)"
   ]
  },
  {
   "cell_type": "code",
   "execution_count": 13,
   "metadata": {},
   "outputs": [],
   "source": [
    "x = df_new['gameno'].sum()"
   ]
  },
  {
   "cell_type": "code",
   "execution_count": 14,
   "metadata": {},
   "outputs": [
    {
     "data": {
      "text/plain": [
       "0.0"
      ]
     },
     "execution_count": 14,
     "metadata": {},
     "output_type": "execute_result"
    }
   ],
   "source": [
    "x /2 - y"
   ]
  },
  {
   "cell_type": "code",
   "execution_count": null,
   "metadata": {},
   "outputs": [],
   "source": []
  }
 ],
 "metadata": {
  "kernelspec": {
   "display_name": "Python 3",
   "language": "python",
   "name": "python3"
  },
  "language_info": {
   "codemirror_mode": {
    "name": "ipython",
    "version": 3
   },
   "file_extension": ".py",
   "mimetype": "text/x-python",
   "name": "python",
   "nbconvert_exporter": "python",
   "pygments_lexer": "ipython3",
   "version": "3.6.8"
  }
 },
 "nbformat": 4,
 "nbformat_minor": 2
}
