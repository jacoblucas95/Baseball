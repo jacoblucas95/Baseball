{
 "cells": [
  {
   "cell_type": "code",
   "execution_count": 1,
   "metadata": {},
   "outputs": [],
   "source": [
    "import pandas as pd\n",
    "import numpy as np\n",
    "from datetime import date"
   ]
  },
  {
   "cell_type": "code",
   "execution_count": 2,
   "metadata": {},
   "outputs": [],
   "source": [
    "df = pd.read_csv('baseball.csv', low_memory=False)"
   ]
  },
  {
   "cell_type": "code",
   "execution_count": 3,
   "metadata": {},
   "outputs": [],
   "source": [
    "def date_range(df=df, start_date=date(2018,1,1), end_date=date(2019,12,31)):\n",
    "    df['date'] = pd.to_datetime(df['date'])\n",
    "    df2 = df[df['date'].isin(pd.date_range(start_date,end_date))]\n",
    "    return df2"
   ]
  },
  {
   "cell_type": "code",
   "execution_count": 4,
   "metadata": {},
   "outputs": [],
   "source": [
    "def home_away(h_a,df=df):\n",
    "    df2 = df.loc[(df['visitor_home'] == h_a)]\n",
    "    return df2"
   ]
  },
  {
   "cell_type": "code",
   "execution_count": 5,
   "metadata": {},
   "outputs": [],
   "source": [
    "def fav_dog(f_d, df=df):\n",
    "    if f_d == 'f':\n",
    "        return df.loc[df['money_line_close'] < 0]\n",
    "    else:\n",
    "        return df.loc[df['money_line_close'] > 0]"
   ]
  },
  {
   "cell_type": "code",
   "execution_count": 24,
   "metadata": {},
   "outputs": [],
   "source": [
    "class Filter:\n",
    "    \n",
    "    def __init__(self, start_date, end_date, visitor_home, favorite_underdog):\n",
    "        self.start_date = start_date\n",
    "        self.end_date = end_date\n",
    "        self.visitor_home = visitor_home\n",
    "        self.favorite_underdog = favorite_underdog\n",
    "        self.df = df\n",
    "\n",
    "    def df_date_range(self):\n",
    "        self.df['date'] = pd.to_datetime(self.df['date'])\n",
    "        df_date_range = self.df[self.df['date'].isin(pd.date_range(self.start_date, self.end_date))]\n",
    "        gameno_list_dates = df_date_range['gameno'].tolist()\n",
    "        return gameno_list_dates\n",
    "    \n",
    "    def df_visitor_home(self):\n",
    "        gameno_list_dates = self.df_date_range()\n",
    "        df_v_h = self.df[self.df['gameno'].isin(gameno_list_dates)]\n",
    "        df_v_h.loc[df_v_h['visitor_home'] == self.visitor_home]\n",
    "        game_list_v_h = df_v_h['gameno'].tolist()\n",
    "        return game_list_v_h\n",
    "        \n",
    "    def df_favorite_underdog(self):\n",
    "        game_list_v_h = self.df_visitor_home()\n",
    "        print(len(game_list_v_h))\n",
    "        df_fav_dog = self.df[self.df['gameno'].isin(game_list_v_h)]\n",
    "        if self.favorite_underdog == 'fav':\n",
    "            df_fav_dog.loc[(df_fav_dog['visitor_home'] == self.visitor_home) & (df_fav_dog['money_line_close'] < 0)]\n",
    "            game_list_f_u = df_fav_dog['gameno'].tolist()\n",
    "            print(len(game_list_f_u))\n",
    "            return self.df[self.df['gameno'].isin(game_list_f_u)]\n",
    "        else:\n",
    "            pass\n"
   ]
  },
  {
   "cell_type": "code",
   "execution_count": 25,
   "metadata": {},
   "outputs": [
    {
     "name": "stdout",
     "output_type": "stream",
     "text": [
      "4924\n",
      "4924\n"
     ]
    },
    {
     "data": {
      "text/html": [
       "<div>\n",
       "<style scoped>\n",
       "    .dataframe tbody tr th:only-of-type {\n",
       "        vertical-align: middle;\n",
       "    }\n",
       "\n",
       "    .dataframe tbody tr th {\n",
       "        vertical-align: top;\n",
       "    }\n",
       "\n",
       "    .dataframe thead th {\n",
       "        text-align: right;\n",
       "    }\n",
       "</style>\n",
       "<table border=\"1\" class=\"dataframe\">\n",
       "  <thead>\n",
       "    <tr style=\"text-align: right;\">\n",
       "      <th></th>\n",
       "      <th>Unnamed: 0</th>\n",
       "      <th>date</th>\n",
       "      <th>gameno</th>\n",
       "      <th>team</th>\n",
       "      <th>visitor_home</th>\n",
       "      <th>team_run_total</th>\n",
       "      <th>total_runs_game</th>\n",
       "      <th>money_line_close</th>\n",
       "      <th>money_line_open</th>\n",
       "      <th>over_under_line_close</th>\n",
       "      <th>over_under_line_open</th>\n",
       "      <th>over_under_odds_close</th>\n",
       "      <th>over_under_odds_open</th>\n",
       "      <th>pitcher</th>\n",
       "      <th>rot</th>\n",
       "      <th>run_dif_game</th>\n",
       "      <th>run_line_close</th>\n",
       "      <th>run_line_odds_close</th>\n",
       "    </tr>\n",
       "  </thead>\n",
       "  <tbody>\n",
       "    <tr>\n",
       "      <th>34503</th>\n",
       "      <td>34503</td>\n",
       "      <td>2016-10-30</td>\n",
       "      <td>17251</td>\n",
       "      <td>CHC</td>\n",
       "      <td>H</td>\n",
       "      <td>3.0</td>\n",
       "      <td>5.0</td>\n",
       "      <td>-220.0</td>\n",
       "      <td>-214</td>\n",
       "      <td>6.5</td>\n",
       "      <td>6.5</td>\n",
       "      <td>-115</td>\n",
       "      <td>-107</td>\n",
       "      <td>JLESTER-L</td>\n",
       "      <td>906</td>\n",
       "      <td>1.0</td>\n",
       "      <td>-1.5</td>\n",
       "      <td>-101.0</td>\n",
       "    </tr>\n",
       "    <tr>\n",
       "      <th>34504</th>\n",
       "      <td>34504</td>\n",
       "      <td>2016-11-01</td>\n",
       "      <td>17252</td>\n",
       "      <td>CHC</td>\n",
       "      <td>V</td>\n",
       "      <td>9.0</td>\n",
       "      <td>12.0</td>\n",
       "      <td>-156.0</td>\n",
       "      <td>-137</td>\n",
       "      <td>7.5</td>\n",
       "      <td>7.0</td>\n",
       "      <td>-115</td>\n",
       "      <td>-123</td>\n",
       "      <td>JARRIETA-R</td>\n",
       "      <td>951</td>\n",
       "      <td>6.0</td>\n",
       "      <td>-1.5</td>\n",
       "      <td>111.0</td>\n",
       "    </tr>\n",
       "    <tr>\n",
       "      <th>34505</th>\n",
       "      <td>34505</td>\n",
       "      <td>2016-11-01</td>\n",
       "      <td>17252</td>\n",
       "      <td>CLE</td>\n",
       "      <td>H</td>\n",
       "      <td>3.0</td>\n",
       "      <td>12.0</td>\n",
       "      <td>141.0</td>\n",
       "      <td>122</td>\n",
       "      <td>7.5</td>\n",
       "      <td>7.0</td>\n",
       "      <td>-105</td>\n",
       "      <td>103</td>\n",
       "      <td>JTOMLIN-R</td>\n",
       "      <td>952</td>\n",
       "      <td>-6.0</td>\n",
       "      <td>1.5</td>\n",
       "      <td>-131.0</td>\n",
       "    </tr>\n",
       "    <tr>\n",
       "      <th>34506</th>\n",
       "      <td>34506</td>\n",
       "      <td>2016-11-02</td>\n",
       "      <td>17253</td>\n",
       "      <td>CHC</td>\n",
       "      <td>V</td>\n",
       "      <td>8.0</td>\n",
       "      <td>15.0</td>\n",
       "      <td>-134.0</td>\n",
       "      <td>-110</td>\n",
       "      <td>6.5</td>\n",
       "      <td>7.0</td>\n",
       "      <td>-110</td>\n",
       "      <td>-120</td>\n",
       "      <td>KHENDRCKS-R</td>\n",
       "      <td>901</td>\n",
       "      <td>1.0</td>\n",
       "      <td>-1.5</td>\n",
       "      <td>142.0</td>\n",
       "    </tr>\n",
       "    <tr>\n",
       "      <th>34507</th>\n",
       "      <td>34507</td>\n",
       "      <td>2016-11-02</td>\n",
       "      <td>17253</td>\n",
       "      <td>CLE</td>\n",
       "      <td>H</td>\n",
       "      <td>7.0</td>\n",
       "      <td>15.0</td>\n",
       "      <td>119.0</td>\n",
       "      <td>100</td>\n",
       "      <td>6.5</td>\n",
       "      <td>7.0</td>\n",
       "      <td>-110</td>\n",
       "      <td>100</td>\n",
       "      <td>CKLUBER-R</td>\n",
       "      <td>902</td>\n",
       "      <td>-1.0</td>\n",
       "      <td>1.5</td>\n",
       "      <td>-162.0</td>\n",
       "    </tr>\n",
       "  </tbody>\n",
       "</table>\n",
       "</div>"
      ],
      "text/plain": [
       "       Unnamed: 0       date  gameno team visitor_home  team_run_total  \\\n",
       "34503       34503 2016-10-30   17251  CHC            H             3.0   \n",
       "34504       34504 2016-11-01   17252  CHC            V             9.0   \n",
       "34505       34505 2016-11-01   17252  CLE            H             3.0   \n",
       "34506       34506 2016-11-02   17253  CHC            V             8.0   \n",
       "34507       34507 2016-11-02   17253  CLE            H             7.0   \n",
       "\n",
       "       total_runs_game  money_line_close  money_line_open  \\\n",
       "34503              5.0            -220.0             -214   \n",
       "34504             12.0            -156.0             -137   \n",
       "34505             12.0             141.0              122   \n",
       "34506             15.0            -134.0             -110   \n",
       "34507             15.0             119.0              100   \n",
       "\n",
       "       over_under_line_close  over_under_line_open  over_under_odds_close  \\\n",
       "34503                    6.5                   6.5                   -115   \n",
       "34504                    7.5                   7.0                   -115   \n",
       "34505                    7.5                   7.0                   -105   \n",
       "34506                    6.5                   7.0                   -110   \n",
       "34507                    6.5                   7.0                   -110   \n",
       "\n",
       "       over_under_odds_open      pitcher  rot  run_dif_game  run_line_close  \\\n",
       "34503                  -107    JLESTER-L  906           1.0            -1.5   \n",
       "34504                  -123   JARRIETA-R  951           6.0            -1.5   \n",
       "34505                   103    JTOMLIN-R  952          -6.0             1.5   \n",
       "34506                  -120  KHENDRCKS-R  901           1.0            -1.5   \n",
       "34507                   100    CKLUBER-R  902          -1.0             1.5   \n",
       "\n",
       "       run_line_odds_close  \n",
       "34503               -101.0  \n",
       "34504                111.0  \n",
       "34505               -131.0  \n",
       "34506                142.0  \n",
       "34507               -162.0  "
      ]
     },
     "execution_count": 25,
     "metadata": {},
     "output_type": "execute_result"
    }
   ],
   "source": [
    "f = Filter(date(2016, 1, 1), date(2017,1,1), 'H', 'fav')\n",
    "df2 = f.df_favorite_underdog()\n",
    "df2.tail()"
   ]
  },
  {
   "cell_type": "code",
   "execution_count": 8,
   "metadata": {},
   "outputs": [
    {
     "data": {
      "text/plain": [
       "78929312"
      ]
     },
     "execution_count": 8,
     "metadata": {},
     "output_type": "execute_result"
    }
   ],
   "source": [
    "78929312"
   ]
  },
  {
   "cell_type": "code",
   "execution_count": 9,
   "metadata": {},
   "outputs": [
    {
     "data": {
      "text/plain": [
       "19713.0"
      ]
     },
     "execution_count": 9,
     "metadata": {},
     "output_type": "execute_result"
    }
   ],
   "source": [
    "39426/2"
   ]
  },
  {
   "cell_type": "code",
   "execution_count": 10,
   "metadata": {},
   "outputs": [
    {
     "data": {
      "text/html": [
       "<div>\n",
       "<style scoped>\n",
       "    .dataframe tbody tr th:only-of-type {\n",
       "        vertical-align: middle;\n",
       "    }\n",
       "\n",
       "    .dataframe tbody tr th {\n",
       "        vertical-align: top;\n",
       "    }\n",
       "\n",
       "    .dataframe thead th {\n",
       "        text-align: right;\n",
       "    }\n",
       "</style>\n",
       "<table border=\"1\" class=\"dataframe\">\n",
       "  <thead>\n",
       "    <tr style=\"text-align: right;\">\n",
       "      <th></th>\n",
       "      <th>Unnamed: 0</th>\n",
       "      <th>date</th>\n",
       "      <th>gameno</th>\n",
       "      <th>team</th>\n",
       "      <th>visitor_home</th>\n",
       "      <th>team_run_total</th>\n",
       "      <th>total_runs_game</th>\n",
       "      <th>money_line_close</th>\n",
       "      <th>money_line_open</th>\n",
       "      <th>over_under_line_close</th>\n",
       "      <th>over_under_line_open</th>\n",
       "      <th>over_under_odds_close</th>\n",
       "      <th>over_under_odds_open</th>\n",
       "      <th>pitcher</th>\n",
       "      <th>rot</th>\n",
       "      <th>run_dif_game</th>\n",
       "      <th>run_line_close</th>\n",
       "      <th>run_line_odds_close</th>\n",
       "    </tr>\n",
       "  </thead>\n",
       "  <tbody>\n",
       "  </tbody>\n",
       "</table>\n",
       "</div>"
      ],
      "text/plain": [
       "Empty DataFrame\n",
       "Columns: [Unnamed: 0, date, gameno, team, visitor_home, team_run_total, total_runs_game, money_line_close, money_line_open, over_under_line_close, over_under_line_open, over_under_odds_close, over_under_odds_open, pitcher, rot, run_dif_game, run_line_close, run_line_odds_close]\n",
       "Index: []"
      ]
     },
     "execution_count": 10,
     "metadata": {},
     "output_type": "execute_result"
    }
   ],
   "source": [
    "df2.loc[df['gameno'] == 19713]"
   ]
  },
  {
   "cell_type": "code",
   "execution_count": null,
   "metadata": {},
   "outputs": [],
   "source": []
  }
 ],
 "metadata": {
  "kernelspec": {
   "display_name": "Python 3",
   "language": "python",
   "name": "python3"
  },
  "language_info": {
   "codemirror_mode": {
    "name": "ipython",
    "version": 3
   },
   "file_extension": ".py",
   "mimetype": "text/x-python",
   "name": "python",
   "nbconvert_exporter": "python",
   "pygments_lexer": "ipython3",
   "version": "3.6.8"
  }
 },
 "nbformat": 4,
 "nbformat_minor": 2
}
