{
 "cells": [
  {
   "cell_type": "code",
   "execution_count": 5,
   "metadata": {},
   "outputs": [],
   "source": [
    "import pandas as pd\n",
    "import numpy as np\n",
    "from datetime import date"
   ]
  },
  {
   "cell_type": "code",
   "execution_count": 6,
   "metadata": {},
   "outputs": [],
   "source": [
    "df = pd.read_csv('baseball.csv', low_memory=False)"
   ]
  },
  {
   "cell_type": "code",
   "execution_count": 7,
   "metadata": {},
   "outputs": [],
   "source": [
    "def date_range(df=df, start_date=date(2018,1,1), end_date=date(2019,12,31)):\n",
    "    df['date'] = pd.to_datetime(df['date'])\n",
    "    df2 = df[df['date'].isin(pd.date_range(start_date,end_date))]\n",
    "    return df2"
   ]
  },
  {
   "cell_type": "code",
   "execution_count": 22,
   "metadata": {},
   "outputs": [],
   "source": [
    "def home_away(h_a,df=df):\n",
    "    df2 = df.loc[(df['visitor_home'] == h_a)]\n",
    "    return df2"
   ]
  },
  {
   "cell_type": "code",
   "execution_count": 27,
   "metadata": {},
   "outputs": [],
   "source": [
    "def fav_dog(f_d, df=df):\n",
    "    if f_d == 'f':\n",
    "        return df.loc[df['money_line_close'] < 0]\n",
    "    else:\n",
    "        return df.loc[df['money_line_close'] > 0]"
   ]
  },
  {
   "cell_type": "code",
   "execution_count": 146,
   "metadata": {},
   "outputs": [],
   "source": [
    "class Filter:\n",
    "    \n",
    "    def __init__(self, **kwargs):\n",
    "        self.start_date = kwargs[start_date]\n",
    "        self.end_date = kwargs[end_date]\n",
    "        self.h_a = kwargs[h_a]\n",
    "        self.f_d = kwargs[f_d]\n",
    "        \n",
    "    def get_df(self):\n",
    "        print(kwargs)"
   ]
  },
  {
   "cell_type": "code",
   "execution_count": 154,
   "metadata": {},
   "outputs": [
    {
     "ename": "NameError",
     "evalue": "name 'start_date' is not defined",
     "output_type": "error",
     "traceback": [
      "\u001b[0;31m---------------------------------------------------------------------------\u001b[0m",
      "\u001b[0;31mNameError\u001b[0m                                 Traceback (most recent call last)",
      "\u001b[0;32m<ipython-input-154-afb4e098408e>\u001b[0m in \u001b[0;36m<module>\u001b[0;34m\u001b[0m\n\u001b[0;32m----> 1\u001b[0;31m \u001b[0mkwargs\u001b[0m \u001b[0;34m=\u001b[0m \u001b[0;34m{\u001b[0m\u001b[0mstart_date\u001b[0m\u001b[0;34m:\u001b[0m\u001b[0;36m2010\u001b[0m\u001b[0;34m,\u001b[0m\u001b[0mend_date\u001b[0m\u001b[0;34m:\u001b[0m\u001b[0;36m2011\u001b[0m\u001b[0;34m,\u001b[0m\u001b[0mh_a\u001b[0m\u001b[0;34m:\u001b[0m\u001b[0;34m'H'\u001b[0m\u001b[0;34m,\u001b[0m\u001b[0mf_d\u001b[0m\u001b[0;34m:\u001b[0m\u001b[0;34m'F'\u001b[0m\u001b[0;34m}\u001b[0m\u001b[0;34m\u001b[0m\u001b[0;34m\u001b[0m\u001b[0m\n\u001b[0m\u001b[1;32m      2\u001b[0m \u001b[0mf\u001b[0m \u001b[0;34m=\u001b[0m \u001b[0mFilter\u001b[0m\u001b[0;34m(\u001b[0m\u001b[0mkwargs\u001b[0m\u001b[0;34m)\u001b[0m\u001b[0;34m\u001b[0m\u001b[0;34m\u001b[0m\u001b[0m\n\u001b[1;32m      3\u001b[0m \u001b[0mf\u001b[0m\u001b[0;34m.\u001b[0m\u001b[0mget_df\u001b[0m\u001b[0;34m(\u001b[0m\u001b[0;34m)\u001b[0m\u001b[0;34m\u001b[0m\u001b[0;34m\u001b[0m\u001b[0m\n",
      "\u001b[0;31mNameError\u001b[0m: name 'start_date' is not defined"
     ]
    }
   ],
   "source": [
    "kwargs = {start_date:2010,end_date:2011,h_a:'H',f_d:'F'}\n",
    "f = Filter(kwargs)\n",
    "f.get_df()"
   ]
  },
  {
   "cell_type": "code",
   "execution_count": null,
   "metadata": {},
   "outputs": [],
   "source": [
    "    def date_range(self):\n",
    "        df['date'] = pd.to_datetime(df['date'])\n",
    "        df2 = df[df['date'].isin(pd.date_range(self.start_date,self.end_date))]\n",
    "        return df2\n",
    "    def visitor_home(self):\n",
    "        df3 = date_range()\n",
    "        df3 = df3.loc[(df3['visitor_home'] == self.h_a)]\n",
    "        return df3\n",
    "    def moneyline_fav_dog(self):\n",
    "        df4 = date_range()\n",
    "        if self.f_d == 'f':\n",
    "            df4.loc[df4['money_line_close'] < 0]\n",
    "        else:\n",
    "            df4.loc[df4['money_line_close'] > 0]\n",
    "        return df4\n"
   ]
  }
 ],
 "metadata": {
  "kernelspec": {
   "display_name": "Python 3",
   "language": "python",
   "name": "python3"
  },
  "language_info": {
   "codemirror_mode": {
    "name": "ipython",
    "version": 3
   },
   "file_extension": ".py",
   "mimetype": "text/x-python",
   "name": "python",
   "nbconvert_exporter": "python",
   "pygments_lexer": "ipython3",
   "version": "3.6.8"
  }
 },
 "nbformat": 4,
 "nbformat_minor": 2
}
