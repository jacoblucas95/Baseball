{
 "cells": [
  {
   "cell_type": "code",
   "execution_count": 1,
   "metadata": {},
   "outputs": [],
   "source": [
    "import numpy as np\n",
    "import pandas as pd"
   ]
  },
  {
   "cell_type": "code",
   "execution_count": 2,
   "metadata": {},
   "outputs": [],
   "source": [
    "data = pd.read_csv('/Users/james/Desktop/Byte/baseball_project/setup/data/baseball.csv', low_memory=False)"
   ]
  },
  {
   "cell_type": "code",
   "execution_count": 12,
   "metadata": {},
   "outputs": [],
   "source": [
    "home_team_rows = data.loc[data['vh'] == 'H']\n",
    "away_team_rows = data.loc[data['vh'] == 'V']\n",
    "# away_team_row_series = data.loc[(data['gameno'] == game_num) & (data['vh'] == 'V')]"
   ]
  },
  {
   "cell_type": "code",
   "execution_count": 13,
   "metadata": {},
   "outputs": [
    {
     "name": "stdout",
     "output_type": "stream",
     "text": [
      "<class 'pandas.core.frame.DataFrame'>\n",
      "Int64Index: 22326 entries, 1 to 44655\n",
      "Data columns (total 30 columns):\n",
      "Unnamed: 0     22326 non-null int64\n",
      "1st            22325 non-null float64\n",
      "2nd            22325 non-null float64\n",
      "3rd            22325 non-null float64\n",
      "4th            22325 non-null float64\n",
      "5th            22325 non-null object\n",
      "6th            22324 non-null object\n",
      "7th            22323 non-null object\n",
      "8th            22319 non-null object\n",
      "9th            22312 non-null object\n",
      "close          22326 non-null float64\n",
      "close_ou       22326 non-null float64\n",
      "closeouodds    22326 non-null int64\n",
      "date           22326 non-null object\n",
      "final          22326 non-null object\n",
      "open           22326 non-null int64\n",
      "open_ou        22185 non-null float64\n",
      "openou         141 non-null float64\n",
      "openouodds     22326 non-null int64\n",
      "pitcher        22303 non-null object\n",
      "rot            22326 non-null int64\n",
      "rundif         22326 non-null object\n",
      "runline        12461 non-null float64\n",
      "runlineodds    12461 non-null float64\n",
      "team           22326 non-null object\n",
      "totalruns      22326 non-null object\n",
      "vh             22326 non-null object\n",
      "winrl          12460 non-null object\n",
      "wintotal       22326 non-null bool\n",
      "gameno         22326 non-null int64\n",
      "dtypes: bool(1), float64(10), int64(6), object(13)\n",
      "memory usage: 5.1+ MB\n"
     ]
    }
   ],
   "source": []
  },
  {
   "cell_type": "code",
   "execution_count": 11,
   "metadata": {},
   "outputs": [
    {
     "name": "stdout",
     "output_type": "stream",
     "text": [
      "NYY\n",
      "NYY\n",
      "NYY\n",
      "NYY\n",
      "NYY\n"
     ]
    }
   ],
   "source": [
    "counter = 0\n",
    "for index, row in home_team_rows.iterrows():\n",
    "    \n",
    "    "
   ]
  },
  {
   "cell_type": "code",
   "execution_count": null,
   "metadata": {},
   "outputs": [],
   "source": []
  }
 ],
 "metadata": {
  "kernelspec": {
   "display_name": "Python 3",
   "language": "python",
   "name": "python3"
  },
  "language_info": {
   "codemirror_mode": {
    "name": "ipython",
    "version": 3
   },
   "file_extension": ".py",
   "mimetype": "text/x-python",
   "name": "python",
   "nbconvert_exporter": "python",
   "pygments_lexer": "ipython3",
   "version": "3.7.3"
  }
 },
 "nbformat": 4,
 "nbformat_minor": 2
}
